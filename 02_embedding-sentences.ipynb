{
 "cells": [
  {
   "cell_type": "markdown",
   "id": "76c48cbc",
   "metadata": {},
   "source": [
    "# CMP STEP 2: Embedding Sentences"
   ]
  },
  {
   "cell_type": "code",
   "execution_count": null,
   "id": "c2ca10fe",
   "metadata": {},
   "outputs": [],
   "source": [
    "from sentence_transformers import SentenceTransformer\n",
    "\n",
    "import numpy as np\n",
    "import pandas as pd"
   ]
  },
  {
   "cell_type": "code",
   "execution_count": null,
   "id": "c21186e8",
   "metadata": {},
   "outputs": [],
   "source": [
    "DATA = 'data/'"
   ]
  },
  {
   "cell_type": "markdown",
   "id": "c05659c0",
   "metadata": {},
   "source": [
    "### Load transformer model"
   ]
  },
  {
   "cell_type": "code",
   "execution_count": null,
   "id": "f2da41f9",
   "metadata": {},
   "outputs": [],
   "source": [
    "# load sentence transformer model\n",
    "# https://huggingface.co/deepset/gbert-large-sts\n",
    "model = SentenceTransformer('deepset/gbert-large-sts')"
   ]
  },
  {
   "cell_type": "markdown",
   "id": "06a09817",
   "metadata": {},
   "source": [
    "### Embed raw strategy sentences & save to file"
   ]
  },
  {
   "cell_type": "code",
   "execution_count": null,
   "id": "5c001f97",
   "metadata": {},
   "outputs": [],
   "source": [
    "# load raw strategy sentences\n",
    "data = pd.read_csv(DATA + 'strategies_raw.csv', sep=';')\n",
    "strategies = data['strategy text'].tolist()"
   ]
  },
  {
   "cell_type": "code",
   "execution_count": null,
   "id": "baf88081",
   "metadata": {},
   "outputs": [],
   "source": [
    "# embed strategy sentences\n",
    "strategy_embeddings = model.encode(strategies, show_progress_bar=True)"
   ]
  },
  {
   "cell_type": "code",
   "execution_count": null,
   "id": "32662909",
   "metadata": {},
   "outputs": [],
   "source": [
    "# save strategy embeddings to file\n",
    "# np.save(DATA + 'strategy_embeddings', strategy_embeddings)  # use previous embeddings for full replicability"
   ]
  },
  {
   "cell_type": "markdown",
   "id": "ab16fc5d",
   "metadata": {},
   "source": [
    "### Embed vignettes for bias measurement (Step 3)"
   ]
  },
  {
   "cell_type": "code",
   "execution_count": null,
   "id": "62af68f4",
   "metadata": {},
   "outputs": [],
   "source": [
    "# read vignette texts from file\n",
    "with open(DATA + 'vignettes.txt') as f:\n",
    "    vignettes = f.read()\n",
    "    \n",
    "vignettes = vignettes.split('; ')"
   ]
  },
  {
   "cell_type": "code",
   "execution_count": null,
   "id": "a0d35e67",
   "metadata": {},
   "outputs": [],
   "source": [
    "# embed vignettes\n",
    "vignette_embeddings = model.encode(vignettes)"
   ]
  },
  {
   "cell_type": "code",
   "execution_count": null,
   "id": "2709068a",
   "metadata": {},
   "outputs": [],
   "source": [
    "# save vignette embeddings to file\n",
    "# np.save(DATA + 'vignette_embeddings', vignette_embeddings)  # use previous embeddings for full replicability"
   ]
  },
  {
   "cell_type": "code",
   "execution_count": null,
   "id": "42a86ece",
   "metadata": {},
   "outputs": [],
   "source": []
  }
 ],
 "metadata": {
  "kernelspec": {
   "display_name": "Python 3 (ipykernel)",
   "language": "python",
   "name": "python3"
  },
  "language_info": {
   "codemirror_mode": {
    "name": "ipython",
    "version": 3
   },
   "file_extension": ".py",
   "mimetype": "text/x-python",
   "name": "python",
   "nbconvert_exporter": "python",
   "pygments_lexer": "ipython3",
   "version": "3.9.12"
  }
 },
 "nbformat": 4,
 "nbformat_minor": 5
}
