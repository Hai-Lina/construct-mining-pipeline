{
 "cells": [
  {
   "cell_type": "markdown",
   "id": "c6d9c013",
   "metadata": {},
   "source": [
    "# CMP STEP 3: Measuring Item Bias"
   ]
  },
  {
   "cell_type": "code",
   "execution_count": 1,
   "id": "08f5a73b",
   "metadata": {
    "scrolled": true
   },
   "outputs": [],
   "source": [
    "import numpy as np\n",
    "import pandas as pd\n",
    "\n",
    "import os\n",
    "import json\n",
    "from tqdm import tqdm\n",
    "\n",
    "from scipy.spatial.distance import cosine as cosdist\n",
    "import scipy.stats as st\n",
    "\n",
    "import matplotlib.pyplot as plt"
   ]
  },
  {
   "cell_type": "code",
   "execution_count": 2,
   "id": "d244d53c",
   "metadata": {},
   "outputs": [],
   "source": [
    "EMBEDDINGS = 'data/'\n",
    "BIAS = 'bias/'\n",
    "MODE = 'masked'  # change mode to either 'normal' or 'masked'"
   ]
  },
  {
   "cell_type": "markdown",
   "id": "4ae501b8",
   "metadata": {},
   "source": [
    "### Load vignette & strategy embeddings"
   ]
  },
  {
   "cell_type": "code",
   "execution_count": 3,
   "id": "ad74ef4c",
   "metadata": {},
   "outputs": [],
   "source": [
    "# load pre-encoded vignette embeddings\n",
    "vignette_embeddings = np.load(EMBEDDINGS + 'vignette_embeddings.npy')"
   ]
  },
  {
   "cell_type": "code",
   "execution_count": 4,
   "id": "35826ef9",
   "metadata": {},
   "outputs": [],
   "source": [
    "# load pre-encoded strategy embeddings\n",
    "if MODE == 'normal':\n",
    "    strategy_embeddings = np.load(EMBEDDINGS + 'strategy_embeddings.npy')\n",
    "elif MODE == 'masked':\n",
    "    strategy_embeddings = np.load(EMBEDDINGS + 'strategy_embeddings_masked.npy')"
   ]
  },
  {
   "cell_type": "markdown",
   "id": "4d794385",
   "metadata": {},
   "source": [
    "### WEAT (Caliskan et al., 2017) adapted one-vs-many"
   ]
  },
  {
   "cell_type": "code",
   "execution_count": 5,
   "id": "9cbad9cc",
   "metadata": {},
   "outputs": [],
   "source": [
    "strategies_per_item = [0, 679, 680, 725, 718, 689, 671, 571, 650, 663]"
   ]
  },
  {
   "cell_type": "code",
   "execution_count": 6,
   "id": "cc6028ee",
   "metadata": {},
   "outputs": [],
   "source": [
    "def WEAT_one_vs_all(item_no=1, shuffle=False, random_seed=15):\n",
    "    \"\"\"calculates the WEAT statistic for bias dimension item_no-all_other_items:\n",
    "       Are answers to item_no closer to vignette of item_no in the embedding space\n",
    "       compared to the vignettes of all other items (averaged)?\"\"\"    \n",
    "    start = np.sum(strategies_per_item[:item_no])\n",
    "    stop = start + strategies_per_item[item_no]\n",
    "    other_items = np.delete(strategy_embeddings, range(start, stop), axis=0)\n",
    "    \n",
    "    rng = np.random.RandomState(random_seed)\n",
    "    random_idx = rng.randint(strategy_embeddings.shape[0]-strategies_per_item[item_no],\n",
    "                             size=strategies_per_item[item_no])\n",
    "    \n",
    "    X = strategy_embeddings[start:stop]\n",
    "    Y = other_items[random_idx]\n",
    "\n",
    "    A = vignette_embeddings[item_no - 1]\n",
    "    B = np.delete(vignette_embeddings, (item_no - 1), axis=0)\n",
    "    \n",
    "    if shuffle:\n",
    "        XUY = np.concatenate((X, Y), axis=0)\n",
    "        np.random.shuffle(XUY)\n",
    "        X = XUY[:strategies_per_item[item_no]]\n",
    "        Y = XUY[strategies_per_item[item_no]:]\n",
    "    \n",
    "    s_WAB = []\n",
    "    \n",
    "    s_XAB = 0\n",
    "    for sentence in X:\n",
    "        inner_item_dist = cosdist(sentence, A)\n",
    "        cross_item_dist = np.mean([cosdist(sentence, B[x]) for x in range(len(B))])\n",
    "        s_wAB = inner_item_dist - cross_item_dist\n",
    "        s_WAB.append(s_wAB)\n",
    "        s_XAB += s_wAB\n",
    "    mean_s_XAB = s_XAB / len(X)\n",
    "\n",
    "    s_YAB = 0\n",
    "    for sentence in Y:\n",
    "        cross_item_dist = cosdist(sentence, A)\n",
    "        inner_item_dist = np.mean([cosdist(sentence, B[x]) for x in range(len(B))])\n",
    "        s_wAB = cross_item_dist - inner_item_dist\n",
    "        s_WAB.append(s_wAB)\n",
    "        s_YAB += s_wAB\n",
    "    mean_s_YAB = s_YAB / len(Y)\n",
    "\n",
    "    s_XYAB = s_XAB - s_YAB\n",
    "    \n",
    "    effect_size = (mean_s_XAB - mean_s_YAB) / np.std(s_WAB)\n",
    "\n",
    "    return s_XYAB, effect_size"
   ]
  },
  {
   "cell_type": "markdown",
   "id": "401f6532",
   "metadata": {},
   "source": [
    "### Calculate item bias statistics, save and display"
   ]
  },
  {
   "cell_type": "code",
   "execution_count": 7,
   "id": "684568cb",
   "metadata": {},
   "outputs": [],
   "source": [
    "# calculate WEAT statistics for all items: includes (WEAT statistic, distribution, p-value)\n",
    "# save to dictionary/json\n",
    "\n",
    "# bias_results = {}\n",
    "\n",
    "# for item in range(1, 10):\n",
    "    # compute statistic for 10 times with different seeds and average\n",
    "    # because of random drawing of 'other item's answers'-set\n",
    "#     WEAT_temp = []\n",
    "#     for seed in np.arange(1, 100, 10):\n",
    "#         WEAT_temp.append(WEAT_one_vs_all(item_no=item, shuffle=False, random_seed=seed)[0])\n",
    "#     statistic = np.mean(WEAT_temp)\n",
    "    \n",
    "#     print(f'Bootstrapping distribution for item {item}...')\n",
    "#     bootstrap_dist = []\n",
    "#     for bootstrap in tqdm(range(1000)):\n",
    "#         bootstrap_dist.append(WEAT_one_vs_all(item_no=item, shuffle=True)[0])\n",
    "    \n",
    "#     mu, sigma = st.norm.fit(bootstrap_dist)\n",
    "#     p = st.norm.sf(statistic, mu, sigma)\n",
    "    \n",
    "#     bias_results[item] = (statistic, bootstrap_dist, p)"
   ]
  },
  {
   "cell_type": "code",
   "execution_count": 8,
   "id": "41ec44c3",
   "metadata": {},
   "outputs": [],
   "source": [
    "# save bias results to file\n",
    "# with open(BIAS + f'bias_results_{MODE}.json', 'w') as f:\n",
    "#     f.write(json.dumps(bias_results))"
   ]
  },
  {
   "cell_type": "code",
   "execution_count": 9,
   "id": "f57f5fa3",
   "metadata": {},
   "outputs": [],
   "source": [
    "# reload pre-computed bias results\n",
    "with open(BIAS + f'bias_results_{MODE}.json', 'r') as f:\n",
    "    bias_results = json.loads(f.read())"
   ]
  },
  {
   "cell_type": "code",
   "execution_count": 10,
   "id": "190b8ff6",
   "metadata": {},
   "outputs": [
    {
     "data": {
      "text/html": [
       "<div>\n",
       "<style scoped>\n",
       "    .dataframe tbody tr th:only-of-type {\n",
       "        vertical-align: middle;\n",
       "    }\n",
       "\n",
       "    .dataframe tbody tr th {\n",
       "        vertical-align: top;\n",
       "    }\n",
       "\n",
       "    .dataframe thead th {\n",
       "        text-align: right;\n",
       "    }\n",
       "</style>\n",
       "<table border=\"1\" class=\"dataframe\">\n",
       "  <thead>\n",
       "    <tr style=\"text-align: right;\">\n",
       "      <th></th>\n",
       "      <th>statistic</th>\n",
       "      <th>p</th>\n",
       "    </tr>\n",
       "  </thead>\n",
       "  <tbody>\n",
       "    <tr>\n",
       "      <th>1</th>\n",
       "      <td>-0.61</td>\n",
       "      <td>1.00</td>\n",
       "    </tr>\n",
       "    <tr>\n",
       "      <th>2</th>\n",
       "      <td>-1.55</td>\n",
       "      <td>1.00</td>\n",
       "    </tr>\n",
       "    <tr>\n",
       "      <th>3</th>\n",
       "      <td>-2.35</td>\n",
       "      <td>1.00</td>\n",
       "    </tr>\n",
       "    <tr>\n",
       "      <th>4</th>\n",
       "      <td>-1.21</td>\n",
       "      <td>1.00</td>\n",
       "    </tr>\n",
       "    <tr>\n",
       "      <th>5</th>\n",
       "      <td>-2.00</td>\n",
       "      <td>1.00</td>\n",
       "    </tr>\n",
       "    <tr>\n",
       "      <th>6</th>\n",
       "      <td>-0.71</td>\n",
       "      <td>1.00</td>\n",
       "    </tr>\n",
       "    <tr>\n",
       "      <th>7</th>\n",
       "      <td>-0.71</td>\n",
       "      <td>1.00</td>\n",
       "    </tr>\n",
       "    <tr>\n",
       "      <th>8</th>\n",
       "      <td>-1.05</td>\n",
       "      <td>1.00</td>\n",
       "    </tr>\n",
       "    <tr>\n",
       "      <th>9</th>\n",
       "      <td>-1.51</td>\n",
       "      <td>1.00</td>\n",
       "    </tr>\n",
       "  </tbody>\n",
       "</table>\n",
       "</div>"
      ],
      "text/plain": [
       "  statistic     p\n",
       "1     -0.61  1.00\n",
       "2     -1.55  1.00\n",
       "3     -2.35  1.00\n",
       "4     -1.21  1.00\n",
       "5     -2.00  1.00\n",
       "6     -0.71  1.00\n",
       "7     -0.71  1.00\n",
       "8     -1.05  1.00\n",
       "9     -1.51  1.00"
      ]
     },
     "execution_count": 10,
     "metadata": {},
     "output_type": "execute_result"
    }
   ],
   "source": [
    "# display bias results in table\n",
    "df_one_vs_all = pd.DataFrame(columns=['statistic', 'p'], index= range(1, 10))\n",
    "\n",
    "for item in range(1, 10):\n",
    "    df_one_vs_all.loc[item]['statistic'] = f'{bias_results[str(item)][0]:.2f}'\n",
    "    df_one_vs_all.loc[item]['p'] = f'{bias_results[str(item)][2]:.2f}'\n",
    "\n",
    "df_one_vs_all"
   ]
  },
  {
   "cell_type": "markdown",
   "id": "67f47db6",
   "metadata": {},
   "source": [
    "### Calculate item bias effect sizes, save and display"
   ]
  },
  {
   "cell_type": "code",
   "execution_count": 11,
   "id": "510e22d4",
   "metadata": {},
   "outputs": [
    {
     "data": {
      "text/html": [
       "<div>\n",
       "<style scoped>\n",
       "    .dataframe tbody tr th:only-of-type {\n",
       "        vertical-align: middle;\n",
       "    }\n",
       "\n",
       "    .dataframe tbody tr th {\n",
       "        vertical-align: top;\n",
       "    }\n",
       "\n",
       "    .dataframe thead th {\n",
       "        text-align: right;\n",
       "    }\n",
       "</style>\n",
       "<table border=\"1\" class=\"dataframe\">\n",
       "  <thead>\n",
       "    <tr style=\"text-align: right;\">\n",
       "      <th></th>\n",
       "      <th>effect size</th>\n",
       "    </tr>\n",
       "  </thead>\n",
       "  <tbody>\n",
       "    <tr>\n",
       "      <th>1</th>\n",
       "      <td>-0.2</td>\n",
       "    </tr>\n",
       "    <tr>\n",
       "      <th>2</th>\n",
       "      <td>-0.73</td>\n",
       "    </tr>\n",
       "    <tr>\n",
       "      <th>3</th>\n",
       "      <td>-0.62</td>\n",
       "    </tr>\n",
       "    <tr>\n",
       "      <th>4</th>\n",
       "      <td>-0.5</td>\n",
       "    </tr>\n",
       "    <tr>\n",
       "      <th>5</th>\n",
       "      <td>-0.83</td>\n",
       "    </tr>\n",
       "    <tr>\n",
       "      <th>6</th>\n",
       "      <td>-0.48</td>\n",
       "    </tr>\n",
       "    <tr>\n",
       "      <th>7</th>\n",
       "      <td>-0.37</td>\n",
       "    </tr>\n",
       "    <tr>\n",
       "      <th>8</th>\n",
       "      <td>-0.61</td>\n",
       "    </tr>\n",
       "    <tr>\n",
       "      <th>9</th>\n",
       "      <td>-0.49</td>\n",
       "    </tr>\n",
       "  </tbody>\n",
       "</table>\n",
       "</div>"
      ],
      "text/plain": [
       "  effect size\n",
       "1        -0.2\n",
       "2       -0.73\n",
       "3       -0.62\n",
       "4        -0.5\n",
       "5       -0.83\n",
       "6       -0.48\n",
       "7       -0.37\n",
       "8       -0.61\n",
       "9       -0.49"
      ]
     },
     "execution_count": 11,
     "metadata": {},
     "output_type": "execute_result"
    }
   ],
   "source": [
    "# calculate WEAT effect size for all items, save to file, and display in table\n",
    "\n",
    "es_file = BIAS + f'es_{MODE}.txt'\n",
    "\n",
    "df_one_vs_all_es = pd.DataFrame(columns=['effect size'], index= range(1, 10))\n",
    "\n",
    "if os.path.isfile(es_file):\n",
    "    os.remove(es_file)\n",
    "\n",
    "with open(es_file, 'a') as f:\n",
    "    for item in range(1, 10):\n",
    "        es = WEAT_one_vs_all(item_no=item, shuffle=False, random_seed=15)[1]\n",
    "        df_one_vs_all_es.loc[item]['effect size'] = round(es, 2)\n",
    "        f.write(f'{item}, {es:.2f}\\n')\n",
    "\n",
    "df_one_vs_all_es"
   ]
  },
  {
   "cell_type": "markdown",
   "id": "1f124299",
   "metadata": {},
   "source": [
    "### Plot item bias statistics"
   ]
  },
  {
   "cell_type": "code",
   "execution_count": 12,
   "id": "e0e9d0cd",
   "metadata": {},
   "outputs": [],
   "source": [
    "def plot_WEAT_bias(ax, item=1):\n",
    "    \"\"\" Plots bootstrapped bias distributions (WEAT one vs. all) with 5% and 95% percentile\n",
    "        (dashed line) and test statistic (solid line) \"\"\"\n",
    "    # plt.figure(figsize=(10, 4))\n",
    "    ax.set_title(f'Item {item}')\n",
    "    start = np.floor(np.min(bias_results[str(item)][1]) * 100) / 100\n",
    "    stop = np.ceil(np.max(bias_results[str(item)][1]) * 100) / 100\n",
    "    ax.hist(bias_results[str(item)][1],\n",
    "             bins=np.arange(start, stop, 0.01),\n",
    "             density=True,\n",
    "             color='lightblue')\n",
    "    mu, sigma = st.norm.fit(bias_results[str(item)][1])\n",
    "    x = np.linspace(start, stop, 1000)\n",
    "    norm = st.norm.pdf(x, mu, sigma)\n",
    "    ax.plot(x, norm, color='teal')\n",
    "    p05 = st.norm.ppf(0.05, mu, sigma)\n",
    "    p95 = st.norm.ppf(0.95, mu, sigma)\n",
    "    ax.axvline(p05, color='coral', linestyle='--')\n",
    "    ax.axvline(p95, color='coral', linestyle='--')\n",
    "    ax.axvline(bias_results[str(item)][0], color='orangered')\n",
    "    \n",
    "    return ax"
   ]
  },
  {
   "cell_type": "code",
   "execution_count": 13,
   "id": "41b8dcd3",
   "metadata": {},
   "outputs": [
    {
     "data": {
      "image/png": "[encoded data removed]",
      "text/plain": [
       "<Figure size 1080x720 with 9 Axes>"
      ]
     },
     "metadata": {
      "needs_background": "light"
     },
     "output_type": "display_data"
    }
   ],
   "source": [
    "fig, axs = plt.subplots(3, 3, figsize=(15, 10))\n",
    "\n",
    "for i, item in zip(range(3), range(1, 4)):\n",
    "    plot_WEAT_bias(axs[0, i], item)\n",
    "\n",
    "for i, item in zip(range(3), range(4, 7)):\n",
    "    plot_WEAT_bias(axs[1, i], item)\n",
    "\n",
    "for i, item in zip(range(3), range(7, 10)):\n",
    "    plot_WEAT_bias(axs[2, i], item)\n",
    "\n",
    "fig.suptitle(f'Bias statistics one-vs-all on {MODE} embeddings')\n",
    "plt.savefig(BIAS + f'bias_plot_{MODE}.pdf')"
   ]
  },
  {
   "cell_type": "code",
   "execution_count": null,
   "id": "fd967d47",
   "metadata": {},
   "outputs": [],
   "source": []
  }
 ],
 "metadata": {
  "kernelspec": {
   "display_name": "Python 3 (ipykernel)",
   "language": "python",
   "name": "python3"
  },
  "language_info": {
   "codemirror_mode": {
    "name": "ipython",
    "version": 3
   },
   "file_extension": ".py",
   "mimetype": "text/x-python",
   "name": "python",
   "nbconvert_exporter": "python",
   "pygments_lexer": "ipython3",
   "version": "3.9.12"
  }
 },
 "nbformat": 4,
 "nbformat_minor": 5
}
