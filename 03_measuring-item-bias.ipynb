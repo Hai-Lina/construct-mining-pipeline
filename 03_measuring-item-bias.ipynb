{
 "cells": [
  {
   "cell_type": "markdown",
   "id": "c6d9c013",
   "metadata": {},
   "source": [
    "# CMP STEP 3: Measuring Item Bias"
   ]
  },
  {
   "cell_type": "code",
   "execution_count": 1,
   "id": "08f5a73b",
   "metadata": {
    "scrolled": true
   },
   "outputs": [],
   "source": [
    "import numpy as np\n",
    "import pandas as pd\n",
    "import random\n",
    "\n",
    "import os\n",
    "import json\n",
    "from tqdm import tqdm\n",
    "\n",
    "from scipy.spatial.distance import cosine as cosdist\n",
    "import scipy.stats as st\n",
    "\n",
    "import matplotlib.pyplot as plt"
   ]
  },
  {
   "cell_type": "code",
   "execution_count": 2,
   "id": "d244d53c",
   "metadata": {},
   "outputs": [],
   "source": [
    "EMBEDDINGS = 'data/'\n",
    "BIAS = 'bias/'\n",
    "MODE = 'masked'  # change mode to either 'normal' or 'masked'"
   ]
  },
  {
   "cell_type": "markdown",
   "id": "4ae501b8",
   "metadata": {},
   "source": [
    "### Load vignette & strategy embeddings"
   ]
  },
  {
   "cell_type": "code",
   "execution_count": 3,
   "id": "ad74ef4c",
   "metadata": {},
   "outputs": [],
   "source": [
    "# load pre-encoded vignette embeddings\n",
    "vignette_embeddings = np.load(EMBEDDINGS + 'vignette_embeddings.npy')"
   ]
  },
  {
   "cell_type": "code",
   "execution_count": 4,
   "id": "35826ef9",
   "metadata": {},
   "outputs": [],
   "source": [
    "# load pre-encoded strategy embeddings\n",
    "if MODE == 'normal':\n",
    "    strategy_embeddings = np.load(EMBEDDINGS + 'strategy_embeddings.npy')\n",
    "elif MODE == 'masked':\n",
    "    strategy_embeddings = np.load(EMBEDDINGS + 'strategy_embeddings_masked.npy')"
   ]
  },
  {
   "cell_type": "markdown",
   "id": "4d794385",
   "metadata": {},
   "source": [
    "### WEAT (Caliskan et al., 2017) adapted one-vs-many"
   ]
  },
  {
   "cell_type": "code",
   "execution_count": 5,
   "id": "9cbad9cc",
   "metadata": {},
   "outputs": [],
   "source": [
    "strategies_per_item = [0, 679, 680, 725, 718, 689, 671, 571, 650, 663]"
   ]
  },
  {
   "cell_type": "code",
   "execution_count": 6,
   "id": "cc6028ee",
   "metadata": {},
   "outputs": [],
   "source": [
    "def WEAT_one_vs_all(item_no=1, random_seed=15):\n",
    "    \"\"\"calculates the WEAT statistic for bias dimension item_no-all_other_items:\n",
    "       Are answers to item_no closer to vignette of item_no in the embedding space\n",
    "       compared to the vignettes of all other items (averaged)?\"\"\"    \n",
    "    start = np.sum(strategies_per_item[:item_no])\n",
    "    stop = start + strategies_per_item[item_no]\n",
    "    other_items = np.delete(strategy_embeddings, range(start, stop), axis=0)\n",
    "    \n",
    "    X = strategy_embeddings[start:stop]\n",
    "    Y = other_items\n",
    "\n",
    "    A = vignette_embeddings[item_no - 1]\n",
    "    B = np.delete(vignette_embeddings, (item_no - 1), axis=0)\n",
    "    \n",
    "    X_boot = random.choices(X, k=len(X))\n",
    "    Y_boot = random.choices(Y, k=len(X)) \n",
    "    \n",
    "    s_WAB = []\n",
    "    \n",
    "    s_XAB = 0\n",
    "    for sentence in X_boot:\n",
    "        inner_item_dist = cosdist(sentence, A)\n",
    "        cross_item_dist = np.mean([cosdist(sentence, B[x]) for x in range(len(B))])\n",
    "        s_wAB = inner_item_dist - cross_item_dist\n",
    "        s_WAB.append(s_wAB)\n",
    "        s_XAB += s_wAB\n",
    "    mean_s_XAB = s_XAB / len(X_boot)\n",
    "\n",
    "    s_YAB = 0\n",
    "    for sentence in Y_boot:\n",
    "        cross_item_dist = cosdist(sentence, A)\n",
    "        inner_item_dist = np.mean([cosdist(sentence, B[x]) for x in range(len(B))])\n",
    "        s_wAB = cross_item_dist - inner_item_dist\n",
    "        s_WAB.append(s_wAB)\n",
    "        s_YAB += s_wAB\n",
    "    mean_s_YAB = s_YAB / len(Y_boot)\n",
    "\n",
    "    s_XYAB = s_XAB - s_YAB\n",
    "    \n",
    "    effect_size = (mean_s_XAB - mean_s_YAB) / np.std(s_WAB)\n",
    "\n",
    "    return s_XYAB, effect_size"
   ]
  },
  {
   "cell_type": "markdown",
   "id": "401f6532",
   "metadata": {},
   "source": [
    "### Calculate item bias statistics & effect sizes, save and display"
   ]
  },
  {
   "cell_type": "code",
   "execution_count": 7,
   "id": "76f10443",
   "metadata": {},
   "outputs": [],
   "source": [
    "# calculate WEAT statistics for all items: includes (bootstrapped bias statistic, bootstrapped effect size)\n",
    "# save to dictionary/json\n",
    "\n",
    "# bias_results = {}\n",
    "\n",
    "# for item in range(1, 10):\n",
    "    # compute statistic for 1000 times with different seeds to produce confidence interval and estimate mean\n",
    "#     print(f'Bootstrapping for item {item}...')\n",
    "#     bias_boot = []\n",
    "#     es_boot = []\n",
    "\n",
    "#     for seed in tqdm(np.arange(1000)):\n",
    "#         WEAT = WEAT_one_vs_all(item_no=item, random_seed=seed)\n",
    "#         bias_boot.append(WEAT[0])\n",
    "#         es_boot.append(WEAT[1])\n",
    "    \n",
    "#     bias_results[item] = (bias_boot, es_boot)"
   ]
  },
  {
   "cell_type": "code",
   "execution_count": 8,
   "id": "01732c2d",
   "metadata": {},
   "outputs": [],
   "source": [
    "# save bias results to file\n",
    "# with open(BIAS + f'bias_boot_{MODE}.json', 'w') as f:\n",
    "    # f.write(json.dumps(bias_results))"
   ]
  },
  {
   "cell_type": "code",
   "execution_count": 9,
   "id": "ed1e5c92",
   "metadata": {},
   "outputs": [],
   "source": [
    "# reload pre-computed bias results\n",
    "with open(BIAS + f'bias_boot_{MODE}.json', 'r') as f:\n",
    "    bias_results = json.loads(f.read())"
   ]
  },
  {
   "cell_type": "code",
   "execution_count": 10,
   "id": "cd719055",
   "metadata": {},
   "outputs": [
    {
     "data": {
      "text/html": [
       "<div>\n",
       "<style scoped>\n",
       "    .dataframe tbody tr th:only-of-type {\n",
       "        vertical-align: middle;\n",
       "    }\n",
       "\n",
       "    .dataframe tbody tr th {\n",
       "        vertical-align: top;\n",
       "    }\n",
       "\n",
       "    .dataframe thead th {\n",
       "        text-align: right;\n",
       "    }\n",
       "</style>\n",
       "<table border=\"1\" class=\"dataframe\">\n",
       "  <thead>\n",
       "    <tr style=\"text-align: right;\">\n",
       "      <th></th>\n",
       "      <th>statistic (mean)</th>\n",
       "      <th>CI (95%)</th>\n",
       "    </tr>\n",
       "  </thead>\n",
       "  <tbody>\n",
       "    <tr>\n",
       "      <th>1</th>\n",
       "      <td>-0.65</td>\n",
       "      <td>[-0.78; -0.52]</td>\n",
       "    </tr>\n",
       "    <tr>\n",
       "      <th>2</th>\n",
       "      <td>-1.53</td>\n",
       "      <td>[-1.70; -1.36]</td>\n",
       "    </tr>\n",
       "    <tr>\n",
       "      <th>3</th>\n",
       "      <td>-2.40</td>\n",
       "      <td>[-2.89; -1.91]</td>\n",
       "    </tr>\n",
       "    <tr>\n",
       "      <th>4</th>\n",
       "      <td>-1.15</td>\n",
       "      <td>[-1.31; -1.00]</td>\n",
       "    </tr>\n",
       "    <tr>\n",
       "      <th>5</th>\n",
       "      <td>-1.99</td>\n",
       "      <td>[-2.24; -1.74]</td>\n",
       "    </tr>\n",
       "    <tr>\n",
       "      <th>6</th>\n",
       "      <td>-0.69</td>\n",
       "      <td>[-0.74; -0.63]</td>\n",
       "    </tr>\n",
       "    <tr>\n",
       "      <th>7</th>\n",
       "      <td>-0.68</td>\n",
       "      <td>[-0.77; -0.59]</td>\n",
       "    </tr>\n",
       "    <tr>\n",
       "      <th>8</th>\n",
       "      <td>-1.08</td>\n",
       "      <td>[-1.21; -0.95]</td>\n",
       "    </tr>\n",
       "    <tr>\n",
       "      <th>9</th>\n",
       "      <td>-1.49</td>\n",
       "      <td>[-1.75; -1.23]</td>\n",
       "    </tr>\n",
       "  </tbody>\n",
       "</table>\n",
       "</div>"
      ],
      "text/plain": [
       "  statistic (mean)        CI (95%)\n",
       "1            -0.65  [-0.78; -0.52]\n",
       "2            -1.53  [-1.70; -1.36]\n",
       "3            -2.40  [-2.89; -1.91]\n",
       "4            -1.15  [-1.31; -1.00]\n",
       "5            -1.99  [-2.24; -1.74]\n",
       "6            -0.69  [-0.74; -0.63]\n",
       "7            -0.68  [-0.77; -0.59]\n",
       "8            -1.08  [-1.21; -0.95]\n",
       "9            -1.49  [-1.75; -1.23]"
      ]
     },
     "execution_count": 10,
     "metadata": {},
     "output_type": "execute_result"
    }
   ],
   "source": [
    "# display bias results in table\n",
    "df_one_vs_all = pd.DataFrame(columns=['statistic (mean)', 'CI (95%)'], index= range(1, 10))\n",
    "\n",
    "for item in range(1, 10):\n",
    "    mu, sigma = st.norm.fit(bias_results[str(item)][0])\n",
    "    lower_95 = mu + sigma * st.norm.ppf(0.025, loc=mu, scale=sigma)\n",
    "    upper_95 = mu - sigma * st.norm.ppf(0.025, loc=mu, scale=sigma)\n",
    "    \n",
    "    df_one_vs_all.loc[item]['statistic (mean)'] = f'{mu:.2f}'\n",
    "    df_one_vs_all.loc[item]['CI (95%)'] = f'[{lower_95:.2f}; {upper_95:.2f}]'\n",
    "\n",
    "df_one_vs_all"
   ]
  },
  {
   "cell_type": "code",
   "execution_count": 11,
   "id": "202050aa",
   "metadata": {},
   "outputs": [
    {
     "data": {
      "text/html": [
       "<div>\n",
       "<style scoped>\n",
       "    .dataframe tbody tr th:only-of-type {\n",
       "        vertical-align: middle;\n",
       "    }\n",
       "\n",
       "    .dataframe tbody tr th {\n",
       "        vertical-align: top;\n",
       "    }\n",
       "\n",
       "    .dataframe thead th {\n",
       "        text-align: right;\n",
       "    }\n",
       "</style>\n",
       "<table border=\"1\" class=\"dataframe\">\n",
       "  <thead>\n",
       "    <tr style=\"text-align: right;\">\n",
       "      <th></th>\n",
       "      <th>effect size (mean)</th>\n",
       "      <th>CI (95%)</th>\n",
       "    </tr>\n",
       "  </thead>\n",
       "  <tbody>\n",
       "    <tr>\n",
       "      <th>1</th>\n",
       "      <td>-0.25</td>\n",
       "      <td>[-0.26; -0.23]</td>\n",
       "    </tr>\n",
       "    <tr>\n",
       "      <th>2</th>\n",
       "      <td>-0.75</td>\n",
       "      <td>[-0.79; -0.71]</td>\n",
       "    </tr>\n",
       "    <tr>\n",
       "      <th>3</th>\n",
       "      <td>-0.66</td>\n",
       "      <td>[-0.69; -0.62]</td>\n",
       "    </tr>\n",
       "    <tr>\n",
       "      <th>4</th>\n",
       "      <td>-0.50</td>\n",
       "      <td>[-0.53; -0.47]</td>\n",
       "    </tr>\n",
       "    <tr>\n",
       "      <th>5</th>\n",
       "      <td>-0.85</td>\n",
       "      <td>[-0.89; -0.81]</td>\n",
       "    </tr>\n",
       "    <tr>\n",
       "      <th>6</th>\n",
       "      <td>-0.50</td>\n",
       "      <td>[-0.53; -0.47]</td>\n",
       "    </tr>\n",
       "    <tr>\n",
       "      <th>7</th>\n",
       "      <td>-0.36</td>\n",
       "      <td>[-0.38; -0.33]</td>\n",
       "    </tr>\n",
       "    <tr>\n",
       "      <th>8</th>\n",
       "      <td>-0.57</td>\n",
       "      <td>[-0.60; -0.53]</td>\n",
       "    </tr>\n",
       "    <tr>\n",
       "      <th>9</th>\n",
       "      <td>-0.53</td>\n",
       "      <td>[-0.56; -0.49]</td>\n",
       "    </tr>\n",
       "  </tbody>\n",
       "</table>\n",
       "</div>"
      ],
      "text/plain": [
       "  effect size (mean)        CI (95%)\n",
       "1              -0.25  [-0.26; -0.23]\n",
       "2              -0.75  [-0.79; -0.71]\n",
       "3              -0.66  [-0.69; -0.62]\n",
       "4              -0.50  [-0.53; -0.47]\n",
       "5              -0.85  [-0.89; -0.81]\n",
       "6              -0.50  [-0.53; -0.47]\n",
       "7              -0.36  [-0.38; -0.33]\n",
       "8              -0.57  [-0.60; -0.53]\n",
       "9              -0.53  [-0.56; -0.49]"
      ]
     },
     "execution_count": 11,
     "metadata": {},
     "output_type": "execute_result"
    }
   ],
   "source": [
    "# display effect size results in table\n",
    "df_one_vs_all = pd.DataFrame(columns=['effect size (mean)', 'CI (95%)'], index= range(1, 10))\n",
    "\n",
    "for item in range(1, 10):\n",
    "    mu, sigma = st.norm.fit(bias_results[str(item)][1])\n",
    "    lower_95 = mu + sigma * st.norm.ppf(0.025, loc=mu, scale=sigma)\n",
    "    upper_95 = mu - sigma * st.norm.ppf(0.025, loc=mu, scale=sigma)\n",
    "    \n",
    "    df_one_vs_all.loc[item]['effect size (mean)'] = f'{mu:.2f}'\n",
    "    df_one_vs_all.loc[item]['CI (95%)'] = f'[{lower_95:.2f}; {upper_95:.2f}]'\n",
    "\n",
    "df_one_vs_all"
   ]
  },
  {
   "cell_type": "code",
   "execution_count": null,
   "id": "fd967d47",
   "metadata": {},
   "outputs": [],
   "source": []
  }
 ],
 "metadata": {
  "kernelspec": {
   "display_name": "Python 3 (ipykernel)",
   "language": "python",
   "name": "python3"
  },
  "language_info": {
   "codemirror_mode": {
    "name": "ipython",
    "version": 3
   },
   "file_extension": ".py",
   "mimetype": "text/x-python",
   "name": "python",
   "nbconvert_exporter": "python",
   "pygments_lexer": "ipython3",
   "version": "3.9.12"
  }
 },
 "nbformat": 4,
 "nbformat_minor": 5
}
