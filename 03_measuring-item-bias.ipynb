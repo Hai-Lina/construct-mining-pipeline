{
 "cells": [
  {
   "cell_type": "markdown",
   "id": "c6d9c013",
   "metadata": {},
   "source": [
    "# CMP STEP 3: Measuring Item Bias"
   ]
  },
  {
   "cell_type": "code",
   "execution_count": 1,
   "id": "08f5a73b",
   "metadata": {
    "scrolled": true
   },
   "outputs": [],
   "source": [
    "import numpy as np\n",
    "import pandas as pd\n",
    "\n",
    "import os\n",
    "import json\n",
    "from tqdm import tqdm\n",
    "\n",
    "from scipy.spatial.distance import cosine as cosdist\n",
    "import scipy.stats as st\n",
    "\n",
    "import matplotlib.pyplot as plt"
   ]
  },
  {
   "cell_type": "code",
   "execution_count": 2,
   "id": "d244d53c",
   "metadata": {},
   "outputs": [],
   "source": [
    "EMBEDDINGS = 'data/'\n",
    "BIAS = 'bias/'\n",
    "MODE = 'masked'  # change mode to either 'normal' or 'masked'"
   ]
  },
  {
   "cell_type": "markdown",
   "id": "4ae501b8",
   "metadata": {},
   "source": [
    "### Load vignette & strategy embeddings"
   ]
  },
  {
   "cell_type": "code",
   "execution_count": 3,
   "id": "ad74ef4c",
   "metadata": {},
   "outputs": [],
   "source": [
    "# load pre-encoded vignette embeddings\n",
    "vignette_embeddings = np.load(EMBEDDINGS + 'vignette_embeddings.npy')"
   ]
  },
  {
   "cell_type": "code",
   "execution_count": 4,
   "id": "35826ef9",
   "metadata": {},
   "outputs": [],
   "source": [
    "# load pre-encoded strategy embeddings\n",
    "if MODE == 'normal':\n",
    "    strategy_embeddings = np.load(EMBEDDINGS + 'strategy_embeddings.npy')\n",
    "elif MODE == 'masked':\n",
    "    strategy_embeddings = np.load(EMBEDDINGS + 'strategy_embeddings_masked.npy')"
   ]
  },
  {
   "cell_type": "markdown",
   "id": "4d794385",
   "metadata": {},
   "source": [
    "### WEAT (Caliskan et al., 2017) adapted one-vs-many"
   ]
  },
  {
   "cell_type": "code",
   "execution_count": 5,
   "id": "9cbad9cc",
   "metadata": {},
   "outputs": [],
   "source": [
    "strategies_per_item = [0, 679, 680, 725, 718, 689, 671, 571, 650, 663]"
   ]
  },
  {
   "cell_type": "code",
   "execution_count": 6,
   "id": "cc6028ee",
   "metadata": {},
   "outputs": [],
   "source": [
    "def WEAT_one_vs_all(item_no=1, random_seed=15):\n",
    "    \"\"\"calculates the WEAT statistic for bias dimension item_no-all_other_items:\n",
    "       Are answers to item_no closer to vignette of item_no in the embedding space\n",
    "       compared to the vignettes of all other items (averaged)?\"\"\"    \n",
    "    start = np.sum(strategies_per_item[:item_no])\n",
    "    stop = start + strategies_per_item[item_no]\n",
    "    other_items = np.delete(strategy_embeddings, range(start, stop), axis=0)\n",
    "    \n",
    "    rng = np.random.RandomState(random_seed)\n",
    "    random_idx = rng.randint(strategy_embeddings.shape[0]-strategies_per_item[item_no],\n",
    "                             size=strategies_per_item[item_no])\n",
    "    \n",
    "    X = strategy_embeddings[start:stop]\n",
    "    Y = other_items[random_idx]\n",
    "\n",
    "    A = vignette_embeddings[item_no - 1]\n",
    "    B = np.delete(vignette_embeddings, (item_no - 1), axis=0)\n",
    "    \n",
    "    s_WAB = []\n",
    "    \n",
    "    s_XAB = 0\n",
    "    for sentence in X:\n",
    "        inner_item_dist = cosdist(sentence, A)\n",
    "        cross_item_dist = np.mean([cosdist(sentence, B[x]) for x in range(len(B))])\n",
    "        s_wAB = inner_item_dist - cross_item_dist\n",
    "        s_WAB.append(s_wAB)\n",
    "        s_XAB += s_wAB\n",
    "    mean_s_XAB = s_XAB / len(X)\n",
    "\n",
    "    s_YAB = 0\n",
    "    for sentence in Y:\n",
    "        cross_item_dist = cosdist(sentence, A)\n",
    "        inner_item_dist = np.mean([cosdist(sentence, B[x]) for x in range(len(B))])\n",
    "        s_wAB = cross_item_dist - inner_item_dist\n",
    "        s_WAB.append(s_wAB)\n",
    "        s_YAB += s_wAB\n",
    "    mean_s_YAB = s_YAB / len(Y)\n",
    "\n",
    "    s_XYAB = s_XAB - s_YAB\n",
    "    \n",
    "    effect_size = (mean_s_XAB - mean_s_YAB) / np.std(s_WAB)\n",
    "\n",
    "    return s_XYAB, effect_size"
   ]
  },
  {
   "cell_type": "markdown",
   "id": "401f6532",
   "metadata": {},
   "source": [
    "### Calculate item bias statistics & effect sizes, save and display"
   ]
  },
  {
   "cell_type": "code",
   "execution_count": 7,
   "id": "76f10443",
   "metadata": {},
   "outputs": [],
   "source": [
    "# calculate WEAT statistics for all items: includes (bootstrapped bias statistic, bootstrapped effect size)\n",
    "# save to dictionary/json\n",
    "\n",
    "# bias_results = {}\n",
    "\n",
    "# for item in range(1, 10):\n",
    "      # compute statistic for 1000 times with different seeds to produce confidence interval\n",
    "      # because of random drawing of 'other item's answers'-set\n",
    "#     print(f'Bootstrapping for item {item}...')\n",
    "#     bias_boot = []\n",
    "#     es_boot = []\n",
    "#     for seed in tqdm(np.arange(1000)):\n",
    "#         WEAT = WEAT_one_vs_all(item_no=item, random_seed=seed)\n",
    "#         bias_boot.append(WEAT[0])\n",
    "#         es_boot.append(WEAT[1])\n",
    "    \n",
    "#     bias_results[item] = (bias_boot, es_boot)"
   ]
  },
  {
   "cell_type": "code",
   "execution_count": 8,
   "id": "01732c2d",
   "metadata": {},
   "outputs": [],
   "source": [
    "# save bias results to file\n",
    "# with open(BIAS + f'bias_boot_{MODE}.json', 'w') as f:\n",
    "    # f.write(json.dumps(bias_results))"
   ]
  },
  {
   "cell_type": "code",
   "execution_count": 9,
   "id": "ed1e5c92",
   "metadata": {},
   "outputs": [],
   "source": [
    "# reload pre-computed bias results\n",
    "with open(BIAS + f'bias_boot_{MODE}.json', 'r') as f:\n",
    "    bias_results = json.loads(f.read())"
   ]
  },
  {
   "cell_type": "code",
   "execution_count": 10,
   "id": "f0ff1c50-89fc-4396-98a0-2bc810b210b6",
   "metadata": {},
   "outputs": [
    {
     "data": {
      "text/html": [
       "<div>\n",
       "<style scoped>\n",
       "    .dataframe tbody tr th:only-of-type {\n",
       "        vertical-align: middle;\n",
       "    }\n",
       "\n",
       "    .dataframe tbody tr th {\n",
       "        vertical-align: top;\n",
       "    }\n",
       "\n",
       "    .dataframe thead th {\n",
       "        text-align: right;\n",
       "    }\n",
       "</style>\n",
       "<table border=\"1\" class=\"dataframe\">\n",
       "  <thead>\n",
       "    <tr style=\"text-align: right;\">\n",
       "      <th></th>\n",
       "      <th>statistic (mean)</th>\n",
       "      <th>CI (95%)</th>\n",
       "    </tr>\n",
       "  </thead>\n",
       "  <tbody>\n",
       "    <tr>\n",
       "      <th>1</th>\n",
       "      <td>-0.65</td>\n",
       "      <td>[-0.85; -0.43]</td>\n",
       "    </tr>\n",
       "    <tr>\n",
       "      <th>2</th>\n",
       "      <td>-1.53</td>\n",
       "      <td>[-1.66; -1.40]</td>\n",
       "    </tr>\n",
       "    <tr>\n",
       "      <th>3</th>\n",
       "      <td>-2.40</td>\n",
       "      <td>[-2.66; -2.13]</td>\n",
       "    </tr>\n",
       "    <tr>\n",
       "      <th>4</th>\n",
       "      <td>-1.16</td>\n",
       "      <td>[-1.30; -1.01]</td>\n",
       "    </tr>\n",
       "    <tr>\n",
       "      <th>5</th>\n",
       "      <td>-1.99</td>\n",
       "      <td>[-2.14; -1.84]</td>\n",
       "    </tr>\n",
       "    <tr>\n",
       "      <th>6</th>\n",
       "      <td>-0.69</td>\n",
       "      <td>[-0.79; -0.58]</td>\n",
       "    </tr>\n",
       "    <tr>\n",
       "      <th>7</th>\n",
       "      <td>-0.68</td>\n",
       "      <td>[-0.82; -0.53]</td>\n",
       "    </tr>\n",
       "    <tr>\n",
       "      <th>8</th>\n",
       "      <td>-1.07</td>\n",
       "      <td>[-1.21; -0.93]</td>\n",
       "    </tr>\n",
       "    <tr>\n",
       "      <th>9</th>\n",
       "      <td>-1.49</td>\n",
       "      <td>[-1.69; -1.27]</td>\n",
       "    </tr>\n",
       "  </tbody>\n",
       "</table>\n",
       "</div>"
      ],
      "text/plain": [
       "  statistic (mean)        CI (95%)\n",
       "1            -0.65  [-0.85; -0.43]\n",
       "2            -1.53  [-1.66; -1.40]\n",
       "3            -2.40  [-2.66; -2.13]\n",
       "4            -1.16  [-1.30; -1.01]\n",
       "5            -1.99  [-2.14; -1.84]\n",
       "6            -0.69  [-0.79; -0.58]\n",
       "7            -0.68  [-0.82; -0.53]\n",
       "8            -1.07  [-1.21; -0.93]\n",
       "9            -1.49  [-1.69; -1.27]"
      ]
     },
     "execution_count": 10,
     "metadata": {},
     "output_type": "execute_result"
    }
   ],
   "source": [
    "# display bias results in table\n",
    "df_one_vs_all = pd.DataFrame(columns=['statistic (mean)', 'CI (95%)'], index= range(1, 10))\n",
    "\n",
    "for item in range(1, 10):\n",
    "    boot = bias_results[str(item)][0]  # list of bootstrapped statistics\n",
    "    boot.sort()\n",
    "    \n",
    "    df_one_vs_all.loc[item]['statistic (mean)'] = f'{np.mean(boot):.2f}'  # mean of bootstrapped values\n",
    "    df_one_vs_all.loc[item]['CI (95%)'] = f'[{boot[int(len(boot)*0.025-1)]:.2f}; {boot[int(len(boot)*0.975-1)]:.2f}]'  # 0.025th percentile & 0.975th percentile through 25th & 750th value in sorted statistics\n",
    "\n",
    "df_one_vs_all"
   ]
  },
  {
   "cell_type": "code",
   "execution_count": 11,
   "id": "fd967d47",
   "metadata": {},
   "outputs": [
    {
     "data": {
      "text/html": [
       "<div>\n",
       "<style scoped>\n",
       "    .dataframe tbody tr th:only-of-type {\n",
       "        vertical-align: middle;\n",
       "    }\n",
       "\n",
       "    .dataframe tbody tr th {\n",
       "        vertical-align: top;\n",
       "    }\n",
       "\n",
       "    .dataframe thead th {\n",
       "        text-align: right;\n",
       "    }\n",
       "</style>\n",
       "<table border=\"1\" class=\"dataframe\">\n",
       "  <thead>\n",
       "    <tr style=\"text-align: right;\">\n",
       "      <th></th>\n",
       "      <th>effect size (mean)</th>\n",
       "      <th>CI (95%)</th>\n",
       "    </tr>\n",
       "  </thead>\n",
       "  <tbody>\n",
       "    <tr>\n",
       "      <th>1</th>\n",
       "      <td>-0.25</td>\n",
       "      <td>[-0.33; -0.16]</td>\n",
       "    </tr>\n",
       "    <tr>\n",
       "      <th>2</th>\n",
       "      <td>-0.75</td>\n",
       "      <td>[-0.81; -0.69]</td>\n",
       "    </tr>\n",
       "    <tr>\n",
       "      <th>3</th>\n",
       "      <td>-0.66</td>\n",
       "      <td>[-0.72; -0.59]</td>\n",
       "    </tr>\n",
       "    <tr>\n",
       "      <th>4</th>\n",
       "      <td>-0.50</td>\n",
       "      <td>[-0.56; -0.45]</td>\n",
       "    </tr>\n",
       "    <tr>\n",
       "      <th>5</th>\n",
       "      <td>-0.85</td>\n",
       "      <td>[-0.90; -0.80]</td>\n",
       "    </tr>\n",
       "    <tr>\n",
       "      <th>6</th>\n",
       "      <td>-0.50</td>\n",
       "      <td>[-0.58; -0.43]</td>\n",
       "    </tr>\n",
       "    <tr>\n",
       "      <th>7</th>\n",
       "      <td>-0.36</td>\n",
       "      <td>[-0.44; -0.27]</td>\n",
       "    </tr>\n",
       "    <tr>\n",
       "      <th>8</th>\n",
       "      <td>-0.57</td>\n",
       "      <td>[-0.63; -0.50]</td>\n",
       "    </tr>\n",
       "    <tr>\n",
       "      <th>9</th>\n",
       "      <td>-0.53</td>\n",
       "      <td>[-0.60; -0.45]</td>\n",
       "    </tr>\n",
       "  </tbody>\n",
       "</table>\n",
       "</div>"
      ],
      "text/plain": [
       "  effect size (mean)        CI (95%)\n",
       "1              -0.25  [-0.33; -0.16]\n",
       "2              -0.75  [-0.81; -0.69]\n",
       "3              -0.66  [-0.72; -0.59]\n",
       "4              -0.50  [-0.56; -0.45]\n",
       "5              -0.85  [-0.90; -0.80]\n",
       "6              -0.50  [-0.58; -0.43]\n",
       "7              -0.36  [-0.44; -0.27]\n",
       "8              -0.57  [-0.63; -0.50]\n",
       "9              -0.53  [-0.60; -0.45]"
      ]
     },
     "execution_count": 11,
     "metadata": {},
     "output_type": "execute_result"
    }
   ],
   "source": [
    "# display effect size results in table\n",
    "df_one_vs_all = pd.DataFrame(columns=['effect size (mean)', 'CI (95%)'], index= range(1, 10))\n",
    "\n",
    "for item in range(1, 10):\n",
    "    boot = bias_results[str(item)][1]  # list of bootstrapped effect sizes\n",
    "    boot.sort()\n",
    "    \n",
    "    df_one_vs_all.loc[item]['effect size (mean)'] = f'{np.mean(boot):.2f}'  # mean of bootstrapped values\n",
    "    df_one_vs_all.loc[item]['CI (95%)'] = f'[{boot[int(len(boot)*0.025-1)]:.2f}; {boot[int(len(boot)*0.975-1)]:.2f}]'  # 0.025th percentile & 0.975th percentile through 25th & 750th value in sorted effect sizes\n",
    "\n",
    "df_one_vs_all"
   ]
  }
 ],
 "metadata": {
  "kernelspec": {
   "display_name": "Python 3 (ipykernel)",
   "language": "python",
   "name": "python3"
  },
  "language_info": {
   "codemirror_mode": {
    "name": "ipython",
    "version": 3
   },
   "file_extension": ".py",
   "mimetype": "text/x-python",
   "name": "python",
   "nbconvert_exporter": "python",
   "pygments_lexer": "ipython3",
   "version": "3.11.7"
  }
 },
 "nbformat": 4,
 "nbformat_minor": 5
}
