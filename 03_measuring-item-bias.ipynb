{
 "cells": [
  {
   "cell_type": "markdown",
   "id": "c6d9c013",
   "metadata": {},
   "source": [
    "# CMP STEP 3: Measuring Item Bias"
   ]
  },
  {
   "cell_type": "code",
   "execution_count": 1,
   "id": "08f5a73b",
   "metadata": {
    "scrolled": true
   },
   "outputs": [],
   "source": [
    "import numpy as np\n",
    "import pandas as pd\n",
    "\n",
    "import os\n",
    "import json\n",
    "from tqdm import tqdm\n",
    "\n",
    "from scipy.spatial.distance import cosine as cosdist\n",
    "import scipy.stats as st\n",
    "\n",
    "import matplotlib.pyplot as plt"
   ]
  },
  {
   "cell_type": "code",
   "execution_count": 2,
   "id": "d244d53c",
   "metadata": {},
   "outputs": [],
   "source": [
    "EMBEDDINGS = 'data/'\n",
    "BIAS = 'bias/'\n",
    "MODE = 'masked'  # change mode to either 'normal' or 'masked'"
   ]
  },
  {
   "cell_type": "markdown",
   "id": "4ae501b8",
   "metadata": {},
   "source": [
    "### Load vignette & strategy embeddings"
   ]
  },
  {
   "cell_type": "code",
   "execution_count": 3,
   "id": "ad74ef4c",
   "metadata": {},
   "outputs": [],
   "source": [
    "# load pre-encoded vignette embeddings\n",
    "vignette_embeddings = np.load(EMBEDDINGS + 'vignette_embeddings.npy')"
   ]
  },
  {
   "cell_type": "code",
   "execution_count": 4,
   "id": "35826ef9",
   "metadata": {},
   "outputs": [],
   "source": [
    "# load pre-encoded strategy embeddings\n",
    "if MODE == 'normal':\n",
    "    strategy_embeddings = np.load(EMBEDDINGS + 'strategy_embeddings.npy')\n",
    "elif MODE == 'masked':\n",
    "    strategy_embeddings = np.load(EMBEDDINGS + 'strategy_embeddings_masked.npy')"
   ]
  },
  {
   "cell_type": "markdown",
   "id": "4d794385",
   "metadata": {},
   "source": [
    "### WEAT (Caliskan et al., 2017) adapted one-vs-many"
   ]
  },
  {
   "cell_type": "code",
   "execution_count": 5,
   "id": "9cbad9cc",
   "metadata": {},
   "outputs": [],
   "source": [
    "strategies_per_item = [0, 679, 680, 725, 718, 689, 671, 571, 650, 663]"
   ]
  },
  {
   "cell_type": "code",
   "execution_count": 6,
   "id": "cc6028ee",
   "metadata": {},
   "outputs": [],
   "source": [
    "def WEAT_one_vs_all(item_no=1, random_seed=15):\n",
    "    \"\"\"calculates the WEAT statistic for bias dimension item_no-all_other_items:\n",
    "       Are answers to item_no closer to vignette of item_no in the embedding space\n",
    "       compared to the vignettes of all other items (averaged)?\"\"\"    \n",
    "    start = np.sum(strategies_per_item[:item_no])\n",
    "    stop = start + strategies_per_item[item_no]\n",
    "    other_items = np.delete(strategy_embeddings, range(start, stop), axis=0)\n",
    "    \n",
    "    rng = np.random.RandomState(random_seed)\n",
    "    random_idx = rng.randint(strategy_embeddings.shape[0]-strategies_per_item[item_no],\n",
    "                             size=strategies_per_item[item_no])\n",
    "    \n",
    "    X = strategy_embeddings[start:stop]\n",
    "    Y = other_items[random_idx]\n",
    "\n",
    "    A = vignette_embeddings[item_no - 1]\n",
    "    B = np.delete(vignette_embeddings, (item_no - 1), axis=0)\n",
    "    \n",
    "    s_WAB = []\n",
    "    \n",
    "    s_XAB = 0\n",
    "    for sentence in X:\n",
    "        inner_item_dist = cosdist(sentence, A)\n",
    "        cross_item_dist = np.mean([cosdist(sentence, B[x]) for x in range(len(B))])\n",
    "        s_wAB = inner_item_dist - cross_item_dist\n",
    "        s_WAB.append(s_wAB)\n",
    "        s_XAB += s_wAB\n",
    "    mean_s_XAB = s_XAB / len(X)\n",
    "\n",
    "    s_YAB = 0\n",
    "    for sentence in Y:\n",
    "        cross_item_dist = cosdist(sentence, A)\n",
    "        inner_item_dist = np.mean([cosdist(sentence, B[x]) for x in range(len(B))])\n",
    "        s_wAB = cross_item_dist - inner_item_dist\n",
    "        s_WAB.append(s_wAB)\n",
    "        s_YAB += s_wAB\n",
    "    mean_s_YAB = s_YAB / len(Y)\n",
    "\n",
    "    s_XYAB = s_XAB - s_YAB\n",
    "    \n",
    "    effect_size = (mean_s_XAB - mean_s_YAB) / np.std(s_WAB)\n",
    "\n",
    "    return s_XYAB, effect_size"
   ]
  },
  {
   "cell_type": "markdown",
   "id": "401f6532",
   "metadata": {},
   "source": [
    "### Calculate item bias statistics & effect sizes, save and display"
   ]
  },
  {
   "cell_type": "code",
   "execution_count": 7,
   "id": "76f10443",
   "metadata": {},
   "outputs": [],
   "source": [
    "# calculate WEAT statistics for all items: includes (bootstrapped bias statistic, bootstrapped effect size)\n",
    "# save to dictionary/json\n",
    "\n",
    "# bias_results = {}\n",
    "\n",
    "# for item in range(1, 10):\n",
    "#     compute statistic for 1000 times with different seeds to produce confidence interval\n",
    "#     because of random drawing of 'other item's answers'-set\n",
    "#     print(f'Bootstrapping for item {item}...')\n",
    "#     bias_boot = []\n",
    "#     es_boot = []\n",
    "#     \n",
    "#         WEAT = WEAT_one_vs_all(item_no=item, random_seed=seed)\n",
    "#         bias_boot.append(WEAT[0])\n",
    "#         es_boot.append(WEAT[1])\n",
    "    \n",
    "#     bias_results[item] = (bias_boot, es_boot)"
   ]
  },
  {
   "cell_type": "code",
   "execution_count": 8,
   "id": "01732c2d",
   "metadata": {},
   "outputs": [],
   "source": [
    "# save bias results to file\n",
    "# with open(BIAS + f'bias_boot_{MODE}.json', 'w') as f:\n",
    "    # f.write(json.dumps(bias_results))"
   ]
  },
  {
   "cell_type": "code",
   "execution_count": 9,
   "id": "ed1e5c92",
   "metadata": {},
   "outputs": [],
   "source": [
    "# reload pre-computed bias results\n",
    "with open(BIAS + f'bias_boot_{MODE}.json', 'r') as f:\n",
    "    bias_results = json.loads(f.read())"
   ]
  },
  {
   "cell_type": "code",
   "execution_count": 10,
   "id": "cd719055",
   "metadata": {},
   "outputs": [
    {
     "data": {
      "text/html": [
       "<div>\n",
       "<style scoped>\n",
       "    .dataframe tbody tr th:only-of-type {\n",
       "        vertical-align: middle;\n",
       "    }\n",
       "\n",
       "    .dataframe tbody tr th {\n",
       "        vertical-align: top;\n",
       "    }\n",
       "\n",
       "    .dataframe thead th {\n",
       "        text-align: right;\n",
       "    }\n",
       "</style>\n",
       "<table border=\"1\" class=\"dataframe\">\n",
       "  <thead>\n",
       "    <tr style=\"text-align: right;\">\n",
       "      <th></th>\n",
       "      <th>statistic (mean)</th>\n",
       "      <th>CI (95%)</th>\n",
       "    </tr>\n",
       "  </thead>\n",
       "  <tbody>\n",
       "    <tr>\n",
       "      <th>1</th>\n",
       "      <td>-0.65</td>\n",
       "      <td>[-0.74; -0.56]</td>\n",
       "    </tr>\n",
       "    <tr>\n",
       "      <th>2</th>\n",
       "      <td>-1.53</td>\n",
       "      <td>[-1.64; -1.42]</td>\n",
       "    </tr>\n",
       "    <tr>\n",
       "      <th>3</th>\n",
       "      <td>-2.40</td>\n",
       "      <td>[-2.74; -2.05]</td>\n",
       "    </tr>\n",
       "    <tr>\n",
       "      <th>4</th>\n",
       "      <td>-1.16</td>\n",
       "      <td>[-1.25; -1.06]</td>\n",
       "    </tr>\n",
       "    <tr>\n",
       "      <th>5</th>\n",
       "      <td>-1.99</td>\n",
       "      <td>[-2.15; -1.83]</td>\n",
       "    </tr>\n",
       "    <tr>\n",
       "      <th>6</th>\n",
       "      <td>-0.69</td>\n",
       "      <td>[-0.73; -0.65]</td>\n",
       "    </tr>\n",
       "    <tr>\n",
       "      <th>7</th>\n",
       "      <td>-0.68</td>\n",
       "      <td>[-0.74; -0.62]</td>\n",
       "    </tr>\n",
       "    <tr>\n",
       "      <th>8</th>\n",
       "      <td>-1.07</td>\n",
       "      <td>[-1.16; -0.99]</td>\n",
       "    </tr>\n",
       "    <tr>\n",
       "      <th>9</th>\n",
       "      <td>-1.49</td>\n",
       "      <td>[-1.67; -1.31]</td>\n",
       "    </tr>\n",
       "  </tbody>\n",
       "</table>\n",
       "</div>"
      ],
      "text/plain": [
       "  statistic (mean)        CI (95%)\n",
       "1            -0.65  [-0.74; -0.56]\n",
       "2            -1.53  [-1.64; -1.42]\n",
       "3            -2.40  [-2.74; -2.05]\n",
       "4            -1.16  [-1.25; -1.06]\n",
       "5            -1.99  [-2.15; -1.83]\n",
       "6            -0.69  [-0.73; -0.65]\n",
       "7            -0.68  [-0.74; -0.62]\n",
       "8            -1.07  [-1.16; -0.99]\n",
       "9            -1.49  [-1.67; -1.31]"
      ]
     },
     "execution_count": 10,
     "metadata": {},
     "output_type": "execute_result"
    }
   ],
   "source": [
    "# display bias results in table\n",
    "df_one_vs_all = pd.DataFrame(columns=['statistic (mean)', 'CI (95%)'], index= range(1, 10))\n",
    "\n",
    "for item in range(1, 10):\n",
    "    mu, sigma = st.norm.fit(bias_results[str(item)][0])\n",
    "    lower_95 = mu + sigma * st.norm.ppf(0.025, loc=mu, scale=sigma)\n",
    "    upper_95 = mu - sigma * st.norm.ppf(0.025, loc=mu, scale=sigma)\n",
    "    \n",
    "    df_one_vs_all.loc[item]['statistic (mean)'] = f'{mu:.2f}'\n",
    "    df_one_vs_all.loc[item]['CI (95%)'] = f'[{lower_95:.2f}; {upper_95:.2f}]'\n",
    "\n",
    "df_one_vs_all"
   ]
  },
  {
   "cell_type": "code",
   "execution_count": 11,
   "id": "202050aa",
   "metadata": {},
   "outputs": [
    {
     "data": {
      "text/html": [
       "<div>\n",
       "<style scoped>\n",
       "    .dataframe tbody tr th:only-of-type {\n",
       "        vertical-align: middle;\n",
       "    }\n",
       "\n",
       "    .dataframe tbody tr th {\n",
       "        vertical-align: top;\n",
       "    }\n",
       "\n",
       "    .dataframe thead th {\n",
       "        text-align: right;\n",
       "    }\n",
       "</style>\n",
       "<table border=\"1\" class=\"dataframe\">\n",
       "  <thead>\n",
       "    <tr style=\"text-align: right;\">\n",
       "      <th></th>\n",
       "      <th>effect size (mean)</th>\n",
       "      <th>CI (95%)</th>\n",
       "    </tr>\n",
       "  </thead>\n",
       "  <tbody>\n",
       "    <tr>\n",
       "      <th>1</th>\n",
       "      <td>-0.25</td>\n",
       "      <td>[-0.26; -0.23]</td>\n",
       "    </tr>\n",
       "    <tr>\n",
       "      <th>2</th>\n",
       "      <td>-0.75</td>\n",
       "      <td>[-0.77; -0.72]</td>\n",
       "    </tr>\n",
       "    <tr>\n",
       "      <th>3</th>\n",
       "      <td>-0.66</td>\n",
       "      <td>[-0.68; -0.63]</td>\n",
       "    </tr>\n",
       "    <tr>\n",
       "      <th>4</th>\n",
       "      <td>-0.50</td>\n",
       "      <td>[-0.52; -0.49]</td>\n",
       "    </tr>\n",
       "    <tr>\n",
       "      <th>5</th>\n",
       "      <td>-0.85</td>\n",
       "      <td>[-0.88; -0.83]</td>\n",
       "    </tr>\n",
       "    <tr>\n",
       "      <th>6</th>\n",
       "      <td>-0.50</td>\n",
       "      <td>[-0.53; -0.48]</td>\n",
       "    </tr>\n",
       "    <tr>\n",
       "      <th>7</th>\n",
       "      <td>-0.36</td>\n",
       "      <td>[-0.37; -0.34]</td>\n",
       "    </tr>\n",
       "    <tr>\n",
       "      <th>8</th>\n",
       "      <td>-0.57</td>\n",
       "      <td>[-0.59; -0.54]</td>\n",
       "    </tr>\n",
       "    <tr>\n",
       "      <th>9</th>\n",
       "      <td>-0.53</td>\n",
       "      <td>[-0.55; -0.50]</td>\n",
       "    </tr>\n",
       "  </tbody>\n",
       "</table>\n",
       "</div>"
      ],
      "text/plain": [
       "  effect size (mean)        CI (95%)\n",
       "1              -0.25  [-0.26; -0.23]\n",
       "2              -0.75  [-0.77; -0.72]\n",
       "3              -0.66  [-0.68; -0.63]\n",
       "4              -0.50  [-0.52; -0.49]\n",
       "5              -0.85  [-0.88; -0.83]\n",
       "6              -0.50  [-0.53; -0.48]\n",
       "7              -0.36  [-0.37; -0.34]\n",
       "8              -0.57  [-0.59; -0.54]\n",
       "9              -0.53  [-0.55; -0.50]"
      ]
     },
     "execution_count": 11,
     "metadata": {},
     "output_type": "execute_result"
    }
   ],
   "source": [
    "# display effect size results in table\n",
    "df_one_vs_all = pd.DataFrame(columns=['effect size (mean)', 'CI (95%)'], index= range(1, 10))\n",
    "\n",
    "for item in range(1, 10):\n",
    "    mu, sigma = st.norm.fit(bias_results[str(item)][1])\n",
    "    lower_95 = mu + sigma * st.norm.ppf(0.025, loc=mu, scale=sigma)\n",
    "    upper_95 = mu - sigma * st.norm.ppf(0.025, loc=mu, scale=sigma)\n",
    "    \n",
    "    df_one_vs_all.loc[item]['effect size (mean)'] = f'{mu:.2f}'\n",
    "    df_one_vs_all.loc[item]['CI (95%)'] = f'[{lower_95:.2f}; {upper_95:.2f}]'\n",
    "\n",
    "df_one_vs_all"
   ]
  },
  {
   "cell_type": "code",
   "execution_count": null,
   "id": "fd967d47",
   "metadata": {},
   "outputs": [],
   "source": []
  }
 ],
 "metadata": {
  "kernelspec": {
   "display_name": "Python 3 (ipykernel)",
   "language": "python",
   "name": "python3"
  },
  "language_info": {
   "codemirror_mode": {
    "name": "ipython",
    "version": 3
   },
   "file_extension": ".py",
   "mimetype": "text/x-python",
   "name": "python",
   "nbconvert_exporter": "python",
   "pygments_lexer": "ipython3",
   "version": "3.9.12"
  }
 },
 "nbformat": 4,
 "nbformat_minor": 5
}
