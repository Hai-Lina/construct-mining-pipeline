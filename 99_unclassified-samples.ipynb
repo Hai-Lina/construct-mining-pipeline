{
 "cells": [
  {
   "cell_type": "markdown",
   "metadata": {
    "id": "zrULRKyGMH8o"
   },
   "source": [
    "# CMP Appendix: Analysis of Unclassified Samples"
   ]
  },
  {
   "cell_type": "code",
   "execution_count": null,
   "metadata": {},
   "outputs": [],
   "source": [
    "NOT_LINUX = False  # set to True, if you have trouble replicating results with your operating system"
   ]
  },
  {
   "cell_type": "code",
   "execution_count": 1,
   "metadata": {},
   "outputs": [],
   "source": [
    "### UMAP final parameters ###\n",
    "N_NEIGHBORS = 30\n",
    "MIN_DIST = 0.01\n",
    "N_COMPONENTS = 30\n",
    "RANDOM_STATE = 86531\n",
    "\n",
    "### HDBSCAN final parameters ###\n",
    "MIN_SAMPLES = 30\n",
    "MIN_CLUSTER_SIZE = 10"
   ]
  },
  {
   "cell_type": "code",
   "execution_count": 2,
   "metadata": {},
   "outputs": [],
   "source": [
    "EMBEDDINGS = 'data/'\n",
    "SAMPLES = 'noise/samples_student_assistants/'\n",
    "DATA = 'noise/labeled_data/'"
   ]
  },
  {
   "cell_type": "code",
   "execution_count": 3,
   "metadata": {
    "id": "NbZM_l6uOQ95"
   },
   "outputs": [
    {
     "name": "stderr",
     "output_type": "stream",
     "text": [
      "/home/alina/anaconda3/envs/umap_hdbscan/lib/python3.9/site-packages/tqdm/auto.py:22: TqdmWarning: IProgress not found. Please update jupyter and ipywidgets. See https://ipywidgets.readthedocs.io/en/stable/user_install.html\n",
      "  from .autonotebook import tqdm as notebook_tqdm\n"
     ]
    }
   ],
   "source": [
    "import pandas as pd\n",
    "import numpy as np\n",
    "import random\n",
    "import os\n",
    "\n",
    "import umap\n",
    "import hdbscan\n",
    "\n",
    "import simpledorff\n",
    "import matplotlib.pyplot as plt\n",
    "\n",
    "import warnings\n",
    "warnings.filterwarnings('ignore')"
   ]
  },
  {
   "cell_type": "markdown",
   "metadata": {
    "id": "wYaupGlCOodL"
   },
   "source": [
    "### Load strategy texts & embeddings"
   ]
  },
  {
   "cell_type": "code",
   "execution_count": 4,
   "metadata": {
    "id": "RUGNfhJ6NvCl"
   },
   "outputs": [],
   "source": [
    "# load raw strategy sentences\n",
    "data = pd.read_csv(EMBEDDINGS + 'strategies_raw.csv', sep=';')\n",
    "strategies = [(data['item'][i], data['strategy text'][i]) for i in range(len(data))]"
   ]
  },
  {
   "cell_type": "code",
   "execution_count": 5,
   "metadata": {
    "id": "RIiKUA4qNw3s"
   },
   "outputs": [],
   "source": [
    "# load strategy embeddings and convert to numpy array\n",
    "strategy_embeddings = np.load(EMBEDDINGS + 'strategy_embeddings_masked.npy')"
   ]
  },
  {
   "cell_type": "markdown",
   "metadata": {},
   "source": [
    "### Define embedding function"
   ]
  },
  {
   "cell_type": "code",
   "execution_count": 6,
   "metadata": {
    "colab": {
     "base_uri": "https://localhost:8080/"
    },
    "id": "SgvV7t8KTDOR",
    "outputId": "8abdb19f-2b97-4830-aab9-1a2fb5b69808"
   },
   "outputs": [],
   "source": [
    "def umap_hdbscan(embeds=strategy_embeddings,\n",
    "                 n_neighbors=N_NEIGHBORS,\n",
    "                 min_dist=MIN_DIST,\n",
    "                 n_components=N_COMPONENTS,\n",
    "                 random_state=RANDOM_STATE,\n",
    "                 min_cluster_size=MIN_CLUSTER_SIZE,\n",
    "                 min_samples=MIN_SAMPLES):\n",
    "    if NOT_LINUX == True:\n",
    "        umap_embed_fin = np.load(EMBEDDINGS + f'not_linux/umap_embeddings_seed-{RANDOM_STATE}-(final).npy')\n",
    "    else:\n",
    "        umap_fin = umap.UMAP(n_neighbors=n_neighbors,\n",
    "                             min_dist=min_dist,\n",
    "                             n_components=n_components,\n",
    "                             metric='cosine',\n",
    "                             random_state=random_state).fit(embeds)\n",
    "                             # gives majority of cluster solutions of 1.000 different UMAP seeds\n",
    "\n",
    "        umap_embed_fin = umap_fin.transform(embeds)\n",
    "\n",
    "    hdbscan_fin = hdbscan.HDBSCAN(min_cluster_size=min_cluster_size,\n",
    "                                  min_samples=min_samples,\n",
    "                                  metric='euclidean')\n",
    "\n",
    "    hdbscan_fin.fit(umap_embed_fin)\n",
    "    \n",
    "    return hdbscan_fin"
   ]
  },
  {
   "cell_type": "markdown",
   "metadata": {
    "id": "IpG3b5wUipPa"
   },
   "source": [
    "### Compute final UMAP & HDBSCAN combination"
   ]
  },
  {
   "cell_type": "code",
   "execution_count": 7,
   "metadata": {},
   "outputs": [
    {
     "name": "stdout",
     "output_type": "stream",
     "text": [
      "Number of clusters: 37\n",
      "Number of unclustered points: 3067\n"
     ]
    }
   ],
   "source": [
    "hdbscan_fin = umap_hdbscan(embeds=strategy_embeddings)\n",
    "# cross-check number of clusters (37) & unclustered points (3067)\n",
    "print(f'Number of clusters: {max(hdbscan_fin.labels_ + 1)}')\n",
    "print(f'Number of unclustered points: {list(hdbscan_fin.labels_).count(-1)}')"
   ]
  },
  {
   "cell_type": "code",
   "execution_count": 8,
   "metadata": {},
   "outputs": [],
   "source": [
    "strategies_labels = pd.DataFrame([(data['strategy text'][i], hdbscan_fin.labels_[i]) for i in range(len(data))],\n",
    "                                 columns=['Strategy', 'Label'])\n",
    "strategies_labels.to_csv(os.path.realpath('.') + '/data/strategies_labels.csv', index=False)"
   ]
  },
  {
   "cell_type": "markdown",
   "metadata": {},
   "source": [
    "### Sample noise packages for student assistants"
   ]
  },
  {
   "cell_type": "code",
   "execution_count": 9,
   "metadata": {},
   "outputs": [],
   "source": [
    "# shuffle all noise samples (3,067)\n",
    "# divide into 3 packages (1,023, 1,022, 1,022)\n",
    "# draw 205 of each package for cross-labeling (interrater reliability analysis)\n",
    "\n",
    "noise = [strategies[i] for i in np.where(hdbscan_fin.labels_ == -1)[0]]\n",
    "random.Random(15).shuffle(noise)  # seed for reproducibility\n",
    "\n",
    "EM = noise[:1023]\n",
    "AB = noise[1023:2045]\n",
    "VP = noise[2045:]\n",
    "\n",
    "pd.DataFrame(EM, columns=['Item', 'ER-Beschreibung']).to_excel(SAMPLES + 'ER-classification_EM.xlsx', index=False)\n",
    "pd.DataFrame(AB, columns=['Item', 'ER-Beschreibung']).to_excel(SAMPLES + 'ER-classification_AB.xlsx', index=False)\n",
    "pd.DataFrame(VP, columns=['Item', 'ER-Beschreibung']).to_excel(SAMPLES + 'ER-classification_VP.xlsx', index=False)\n",
    "\n",
    "EM_cross = random.Random(15).sample(EM, 205)\n",
    "AB_cross = random.Random(15).sample(AB, 205)\n",
    "VP_cross = random.Random(15).sample(VP, 205)\n",
    "\n",
    "pd.DataFrame(EM_cross, columns=['Item', 'ER-Beschreibung']).to_excel(SAMPLES + 'ER-classification_EM-cross.xlsx', index=False)\n",
    "pd.DataFrame(AB_cross, columns=['Item', 'ER-Beschreibung']).to_excel(SAMPLES + 'ER-classification_AB-cross.xlsx', index=False)\n",
    "pd.DataFrame(VP_cross, columns=['Item', 'ER-Beschreibung']).to_excel(SAMPLES + 'ER-classification_VP-cross.xlsx', index=False)"
   ]
  },
  {
   "cell_type": "code",
   "execution_count": 10,
   "metadata": {},
   "outputs": [],
   "source": [
    "# sample training packages 3x20\n",
    "# from noise (not from own package and not from package of person who will be cross-labeled)\n",
    "\n",
    "EM_training = random.Random(15).sample(AB, 20)\n",
    "EM_training = [s[1] for s in EM_training]\n",
    "AB_training = random.Random(15).sample(VP, 20)\n",
    "AB_training = [s[1] for s in AB_training]\n",
    "VP_training = random.Random(15).sample(EM, 20)\n",
    "VP_training = [s[1] for s in VP_training]\n",
    "\n",
    "pd.DataFrame(EM_training, columns=['ER-Beschreibung']).to_excel(SAMPLES + 'ER-classification_EM-training.xlsx', index=False)\n",
    "pd.DataFrame(AB_training, columns=['ER-Beschreibung']).to_excel(SAMPLES + 'ER-classification_AB-training.xlsx', index=False)\n",
    "pd.DataFrame(VP_training, columns=['ER-Beschreibung']).to_excel(SAMPLES + 'ER-classification_VP-training.xlsx', index=False)"
   ]
  },
  {
   "cell_type": "code",
   "execution_count": 11,
   "metadata": {},
   "outputs": [],
   "source": [
    "EM_training_2 = random.Random(16).sample(AB, 50)\n",
    "pd.DataFrame(EM_training_2, columns=['Item', 'ER-Beschreibung']).to_excel(SAMPLES + 'ER-classification_EM-training-2.xlsx', index=False)"
   ]
  },
  {
   "cell_type": "markdown",
   "metadata": {},
   "source": [
    "### Define Krippendorff's Alpha function"
   ]
  },
  {
   "cell_type": "code",
   "execution_count": 12,
   "metadata": {},
   "outputs": [],
   "source": [
    "def krips_alpha(dfs):\n",
    "    alpha_df = dfs[0]\n",
    "    for df in (dfs[1], dfs[2]):\n",
    "        alpha_df = pd.concat([alpha_df, df])\n",
    "        dups = alpha_df.duplicated(subset=['Item', 'ER Suggestion'], keep=False)\n",
    "        alpha_df = alpha_df[dups.values]\n",
    "    \n",
    "    alpha = simpledorff.calculate_krippendorffs_alpha_for_df(alpha_df,\n",
    "                                                             experiment_col='ER Suggestion',\n",
    "                                                             annotator_col='Annotator',\n",
    "                                                             class_col='Label')\n",
    "    \n",
    "    return alpha"
   ]
  },
  {
   "cell_type": "markdown",
   "metadata": {},
   "source": [
    "### Calculate alpha on three different subsets"
   ]
  },
  {
   "cell_type": "code",
   "execution_count": 13,
   "metadata": {},
   "outputs": [
    {
     "data": {
      "text/plain": [
       "0.5103610285270468"
      ]
     },
     "execution_count": 13,
     "metadata": {},
     "output_type": "execute_result"
    }
   ],
   "source": [
    "# subset AB\n",
    "AB = pd.read_csv(DATA + 'AB_clean.csv')\n",
    "AB['Annotator'] = 'AB'\n",
    "AB = AB[AB['Label'].notna()]\n",
    "AB = AB.drop_duplicates()\n",
    "\n",
    "AB_EM = pd.read_csv(DATA + 'AB-cross-EM_clean.csv')\n",
    "AB_EM['Annotator'] = 'EM'\n",
    "\n",
    "AB_VP = pd.read_csv(DATA + 'AB-cross-VP_clean.csv')\n",
    "AB_VP['Annotator'] = 'VP'\n",
    "\n",
    "krips_alpha([AB, AB_EM, AB_VP])"
   ]
  },
  {
   "cell_type": "code",
   "execution_count": 14,
   "metadata": {},
   "outputs": [
    {
     "data": {
      "text/plain": [
       "0.4926498729491483"
      ]
     },
     "execution_count": 14,
     "metadata": {},
     "output_type": "execute_result"
    }
   ],
   "source": [
    "# subset EM\n",
    "EM = pd.read_csv(DATA + 'EM_clean.csv')\n",
    "EM['Annotator'] = 'EM'\n",
    "EM = EM.drop_duplicates(subset=['Item', 'ER Suggestion'])\n",
    "\n",
    "EM_AB = pd.read_csv(DATA + 'EM-cross-AB_clean.csv')\n",
    "EM_AB['Annotator'] = 'AB'\n",
    "\n",
    "EM_VP = pd.read_csv(DATA + 'EM-cross-VP_clean.csv')\n",
    "EM_VP['Annotator'] = 'VP'\n",
    "\n",
    "krips_alpha([EM, EM_AB, EM_VP])"
   ]
  },
  {
   "cell_type": "code",
   "execution_count": 15,
   "metadata": {},
   "outputs": [
    {
     "data": {
      "text/plain": [
       "0.4516632983274026"
      ]
     },
     "execution_count": 15,
     "metadata": {},
     "output_type": "execute_result"
    }
   ],
   "source": [
    "# subset VP\n",
    "VP = pd.read_csv(DATA + 'VP_clean.csv')\n",
    "VP['Annotator'] = 'VP'\n",
    "VP = VP.drop_duplicates(subset=['Item', 'ER Suggestion'])\n",
    "\n",
    "VP_AB = pd.read_csv(DATA + 'VP-cross-AB_clean.csv')\n",
    "VP_AB['Annotator'] = 'AB'\n",
    "\n",
    "VP_EM = pd.read_csv(DATA + 'VP-cross-EM_clean.csv')\n",
    "VP_EM['Annotator'] = 'EM'\n",
    "\n",
    "krips_alpha([VP, VP_AB, VP_EM])"
   ]
  },
  {
   "cell_type": "markdown",
   "metadata": {},
   "source": [
    "### Inspect class distributions"
   ]
  },
  {
   "cell_type": "code",
   "execution_count": 16,
   "metadata": {},
   "outputs": [],
   "source": [
    "def plot_label_dist(df_labels):\n",
    "    d = df_labels.value_counts().to_dict()\n",
    "    d = {k: v for k, v in sorted(d.items(), reverse=True, key=lambda item: item[1])}\n",
    "    \n",
    "    fig, ax = plt.subplots(1, 1, figsize=(15,7))\n",
    "    \n",
    "    for pos in ('top', 'right', 'bottom', 'left'):\n",
    "        ax.spines[pos].set_visible(False)\n",
    "    \n",
    "    ax.set_facecolor('ghostwhite')\n",
    "    ax.grid(axis='y', color='lightgrey', linewidth=1)\n",
    "    ax.set_axisbelow(True)\n",
    "    ax.set_xlabel('Strategy classes', fontsize=14)\n",
    "    ax.set_ylabel('Number of instances', fontsize=14)\n",
    "    ax.bar(d.keys(), d.values(), color='cornflowerblue')\n",
    "    plt.xticks(rotation=90, fontsize=12)\n",
    "    \n",
    "    return fig"
   ]
  },
  {
   "cell_type": "code",
   "execution_count": 17,
   "metadata": {},
   "outputs": [
    {
     "data": {
      "image/png": "[encoded data removed]",
      "text/plain": [
       "<Figure size 1080x504 with 1 Axes>"
      ]
     },
     "metadata": {
      "needs_background": "light"
     },
     "output_type": "display_data"
    }
   ],
   "source": [
    "# subset AB\n",
    "AB = pd.read_csv(DATA + 'AB_clean.csv')\n",
    "AB_dist = plot_label_dist(AB.Label)"
   ]
  },
  {
   "cell_type": "code",
   "execution_count": 18,
   "metadata": {},
   "outputs": [
    {
     "data": {
      "image/png": "[encoded data removed]",
      "text/plain": [
       "<Figure size 1080x504 with 1 Axes>"
      ]
     },
     "metadata": {
      "needs_background": "light"
     },
     "output_type": "display_data"
    }
   ],
   "source": [
    "# subset EM\n",
    "EM = pd.read_csv(DATA + 'EM_clean.csv')\n",
    "EM_dist = plot_label_dist(EM.Label)"
   ]
  },
  {
   "cell_type": "code",
   "execution_count": 19,
   "metadata": {},
   "outputs": [
    {
     "data": {
      "image/png": "[encoded data removed]",
      "text/plain": [
       "<Figure size 1080x504 with 1 Axes>"
      ]
     },
     "metadata": {
      "needs_background": "light"
     },
     "output_type": "display_data"
    }
   ],
   "source": [
    "# subset VP\n",
    "VP = pd.read_csv(DATA + 'VP_clean.csv')\n",
    "VP_dist = plot_label_dist(VP.Label)"
   ]
  },
  {
   "cell_type": "code",
   "execution_count": 20,
   "metadata": {},
   "outputs": [
    {
     "data": {
      "image/png": "[encoded data removed]",
      "text/plain": [
       "<Figure size 1080x504 with 1 Axes>"
      ]
     },
     "metadata": {
      "needs_background": "light"
     },
     "output_type": "display_data"
    }
   ],
   "source": [
    "# all non-classified\n",
    "non_classified = pd.concat([AB, EM, VP])\n",
    "non_classified_dist = plot_label_dist(non_classified.Label)\n",
    "plt.savefig('noise/non_classified_dist.svg')"
   ]
  },
  {
   "cell_type": "code",
   "execution_count": 21,
   "metadata": {},
   "outputs": [
    {
     "data": {
      "image/png": "[encoded data removed]",
      "text/plain": [
       "<Figure size 1080x504 with 1 Axes>"
      ]
     },
     "metadata": {
      "needs_background": "light"
     },
     "output_type": "display_data"
    }
   ],
   "source": [
    "# all classified\n",
    "classified = pd.read_csv(os.path.realpath('.') + '/data/strategies_labels.csv')\n",
    "classified = classified[classified.Label != -1]\n",
    "\n",
    "# np.NaN due to low intrusion task score or based on 'topic words', Cluster 34 not interpretable\n",
    "labels_classes = {0: np.NaN, 1: 'subst-med', 2: 'sitcon', 3: np.NaN, 4: 'dist',\n",
    "                  5: 'relax', 6: 'therapy', 7: 'sitcon', 8: np.NaN, 9: 'suppress', 10: np.NaN,\n",
    "                  11: 'eat-drink', 12: 'subst-alc', 13: np.NaN, 14: 'sitcon', 15: np.NaN,\n",
    "                  16: 'info', 17: 'withdr', 18: np.NaN, 19: 'sitcon', 20: 'expr',\n",
    "                  21: 'instr-supp', 22: np.NaN, 23: 'self-en', 24: 'sitcon', 25: 'sitcon',\n",
    "                  26: 'sitcon', 27: 'social-supp', 28: 'social-supp', 29: 'social-supp', 30: 'sitcon',\n",
    "                  31: 'expr', 32: np.NaN, 33: 'reapp', 34: np.NaN, 35: 'instr-supp', 36: 'instr-supp'}\n",
    "\n",
    "classified['Class'] = [labels_classes[x] for x in classified.Label]\n",
    "classified = classified[classified.Class.notna()]\n",
    "\n",
    "classified_dist = plot_label_dist(classified.Class)\n",
    "plt.savefig('noise/classified_dist.svg')"
   ]
  },
  {
   "cell_type": "markdown",
   "metadata": {},
   "source": [
    "### Percentage of \"other\" category"
   ]
  },
  {
   "cell_type": "code",
   "execution_count": 22,
   "metadata": {},
   "outputs": [],
   "source": [
    "def percentage_other(df):\n",
    "    return len(df[df['Label'] == 'other']) / len(df)"
   ]
  },
  {
   "cell_type": "code",
   "execution_count": 23,
   "metadata": {},
   "outputs": [
    {
     "data": {
      "text/plain": [
       "0.10176125244618395"
      ]
     },
     "execution_count": 23,
     "metadata": {},
     "output_type": "execute_result"
    }
   ],
   "source": [
    "# subset AB\n",
    "percentage_other(AB)"
   ]
  },
  {
   "cell_type": "code",
   "execution_count": 24,
   "metadata": {},
   "outputs": [
    {
     "data": {
      "text/plain": [
       "0.011730205278592375"
      ]
     },
     "execution_count": 24,
     "metadata": {},
     "output_type": "execute_result"
    }
   ],
   "source": [
    "# subset EM\n",
    "percentage_other(EM)"
   ]
  },
  {
   "cell_type": "code",
   "execution_count": 25,
   "metadata": {},
   "outputs": [
    {
     "data": {
      "text/plain": [
       "0.07632093933463796"
      ]
     },
     "execution_count": 25,
     "metadata": {},
     "output_type": "execute_result"
    }
   ],
   "source": [
    "# subset VP\n",
    "percentage_other(VP)"
   ]
  },
  {
   "cell_type": "code",
   "execution_count": 26,
   "metadata": {},
   "outputs": [
    {
     "data": {
      "text/plain": [
       "0.06325399413107272"
      ]
     },
     "execution_count": 26,
     "metadata": {},
     "output_type": "execute_result"
    }
   ],
   "source": [
    "# all non-classified\n",
    "percentage_other(non_classified)"
   ]
  },
  {
   "cell_type": "code",
   "execution_count": 27,
   "metadata": {},
   "outputs": [
    {
     "data": {
      "text/plain": [
       "0.03199208443271768"
      ]
     },
     "execution_count": 27,
     "metadata": {},
     "output_type": "execute_result"
    }
   ],
   "source": [
    "# percentage \"other\" over ALL 6,604 strategies\n",
    "len(non_classified[non_classified['Label'] == 'other'])/ 6064"
   ]
  },
  {
   "cell_type": "markdown",
   "metadata": {},
   "source": [
    "### New classes in non-classified samples"
   ]
  },
  {
   "cell_type": "code",
   "execution_count": 28,
   "metadata": {},
   "outputs": [
    {
     "data": {
      "text/plain": [
       "accept       76\n",
       "reflect      73\n",
       "destr-soc    42\n",
       "self-depr     3\n",
       "Name: New Label, dtype: int64"
      ]
     },
     "execution_count": 28,
     "metadata": {},
     "output_type": "execute_result"
    }
   ],
   "source": [
    "non_classified['New Label'].value_counts()"
   ]
  },
  {
   "cell_type": "code",
   "execution_count": 29,
   "metadata": {},
   "outputs": [
    {
     "name": "stdout",
     "output_type": "stream",
     "text": [
      "accept: 0.3917525773195876\n",
      "reflect: 0.37628865979381443\n",
      "destr-soc: 0.21649484536082475\n",
      "self-depr: 0.015463917525773196\n"
     ]
    }
   ],
   "source": [
    "# percentages of new classes in \"other\"\n",
    "other = len(non_classified[non_classified.Label == 'other'])\n",
    "new_classes = non_classified['New Label'].value_counts().to_dict()\n",
    "\n",
    "for new_class in new_classes.keys():\n",
    "    print(f\"{new_class}: {new_classes[new_class]/other}\")"
   ]
  },
  {
   "cell_type": "markdown",
   "metadata": {},
   "source": [
    "### Examples for interrater disagreement"
   ]
  },
  {
   "cell_type": "code",
   "execution_count": 30,
   "metadata": {},
   "outputs": [
    {
     "data": {
      "text/html": [
       "<div>\n",
       "<style scoped>\n",
       "    .dataframe tbody tr th:only-of-type {\n",
       "        vertical-align: middle;\n",
       "    }\n",
       "\n",
       "    .dataframe tbody tr th {\n",
       "        vertical-align: top;\n",
       "    }\n",
       "\n",
       "    .dataframe thead th {\n",
       "        text-align: right;\n",
       "    }\n",
       "</style>\n",
       "<table border=\"1\" class=\"dataframe\">\n",
       "  <thead>\n",
       "    <tr style=\"text-align: right;\">\n",
       "      <th></th>\n",
       "      <th>Item</th>\n",
       "      <th>ER Suggestion</th>\n",
       "      <th>AB</th>\n",
       "      <th>EM</th>\n",
       "      <th>VP</th>\n",
       "    </tr>\n",
       "  </thead>\n",
       "  <tbody>\n",
       "    <tr>\n",
       "      <th>4</th>\n",
       "      <td>6</td>\n",
       "      <td>Ich distanziere mich von der Bewertung des Kli...</td>\n",
       "      <td>suppress</td>\n",
       "      <td>withdr</td>\n",
       "      <td>reapp</td>\n",
       "    </tr>\n",
       "    <tr>\n",
       "      <th>5</th>\n",
       "      <td>2</td>\n",
       "      <td>Ich suche jemanden auf der mir bei meiner Angs...</td>\n",
       "      <td>therapy</td>\n",
       "      <td>instr-supp</td>\n",
       "      <td>therapy</td>\n",
       "    </tr>\n",
       "    <tr>\n",
       "      <th>6</th>\n",
       "      <td>5</td>\n",
       "      <td>ich werte die jüngeren Studenten innerlich ab</td>\n",
       "      <td>self-en</td>\n",
       "      <td>reapp</td>\n",
       "      <td>self-en</td>\n",
       "    </tr>\n",
       "    <tr>\n",
       "      <th>14</th>\n",
       "      <td>3</td>\n",
       "      <td>Den Verwandten anrufen.</td>\n",
       "      <td>info</td>\n",
       "      <td>social-supp</td>\n",
       "      <td>sitcon</td>\n",
       "    </tr>\n",
       "    <tr>\n",
       "      <th>22</th>\n",
       "      <td>4</td>\n",
       "      <td>Reflektieren was der Wahrheit entspricht</td>\n",
       "      <td>other</td>\n",
       "      <td>reapp</td>\n",
       "      <td>other</td>\n",
       "    </tr>\n",
       "    <tr>\n",
       "      <th>25</th>\n",
       "      <td>1</td>\n",
       "      <td>Ich bereite mich darauf vor, ein höheres Arbei...</td>\n",
       "      <td>other</td>\n",
       "      <td>reapp</td>\n",
       "      <td>sitcon</td>\n",
       "    </tr>\n",
       "    <tr>\n",
       "      <th>28</th>\n",
       "      <td>1</td>\n",
       "      <td>Früher Feierabend machen und sich einen gemütl...</td>\n",
       "      <td>relax</td>\n",
       "      <td>sitcon</td>\n",
       "      <td>relax</td>\n",
       "    </tr>\n",
       "    <tr>\n",
       "      <th>37</th>\n",
       "      <td>7</td>\n",
       "      <td>Ich schaue nach vorne, kümmere mich erneut um ...</td>\n",
       "      <td>sitcon</td>\n",
       "      <td>reapp</td>\n",
       "      <td>sitcon</td>\n",
       "    </tr>\n",
       "    <tr>\n",
       "      <th>41</th>\n",
       "      <td>3</td>\n",
       "      <td>Arzt fragen wie es steht um sie steht</td>\n",
       "      <td>info</td>\n",
       "      <td>instr-supp</td>\n",
       "      <td>info</td>\n",
       "    </tr>\n",
       "    <tr>\n",
       "      <th>43</th>\n",
       "      <td>6</td>\n",
       "      <td>Gespräch mit Klient suchen</td>\n",
       "      <td>info</td>\n",
       "      <td>sitcon</td>\n",
       "      <td>info</td>\n",
       "    </tr>\n",
       "    <tr>\n",
       "      <th>54</th>\n",
       "      <td>1</td>\n",
       "      <td>versuchen, mich zu beruhigen</td>\n",
       "      <td>relax</td>\n",
       "      <td>reapp</td>\n",
       "      <td>relax</td>\n",
       "    </tr>\n",
       "    <tr>\n",
       "      <th>58</th>\n",
       "      <td>5</td>\n",
       "      <td>Positiv denken: Man kann alles lernen, du scha...</td>\n",
       "      <td>reapp</td>\n",
       "      <td>self-en</td>\n",
       "      <td>reapp</td>\n",
       "    </tr>\n",
       "    <tr>\n",
       "      <th>60</th>\n",
       "      <td>4</td>\n",
       "      <td>Frage mal nach warum, wenn Gründe schlüssig si...</td>\n",
       "      <td>other</td>\n",
       "      <td>sitcon</td>\n",
       "      <td>info</td>\n",
       "    </tr>\n",
       "    <tr>\n",
       "      <th>63</th>\n",
       "      <td>3</td>\n",
       "      <td>Ich erkundige mich bei meinen Verwandten was p...</td>\n",
       "      <td>info</td>\n",
       "      <td>social-supp</td>\n",
       "      <td>info</td>\n",
       "    </tr>\n",
       "    <tr>\n",
       "      <th>71</th>\n",
       "      <td>2</td>\n",
       "      <td>Körpergestik einnehmen die nicht Angst wieders...</td>\n",
       "      <td>self-en</td>\n",
       "      <td>sitcon</td>\n",
       "      <td>therapy</td>\n",
       "    </tr>\n",
       "    <tr>\n",
       "      <th>74</th>\n",
       "      <td>6</td>\n",
       "      <td>Kritik des Klienten verdrängen</td>\n",
       "      <td>suppress</td>\n",
       "      <td>withdr</td>\n",
       "      <td>suppress</td>\n",
       "    </tr>\n",
       "    <tr>\n",
       "      <th>77</th>\n",
       "      <td>2</td>\n",
       "      <td>sich fragen ob man bereit ist private Freundsc...</td>\n",
       "      <td>other</td>\n",
       "      <td>sitcon</td>\n",
       "      <td>withdr</td>\n",
       "    </tr>\n",
       "    <tr>\n",
       "      <th>81</th>\n",
       "      <td>4</td>\n",
       "      <td>Gedanken machen ob das wirklich so ist</td>\n",
       "      <td>other</td>\n",
       "      <td>reapp</td>\n",
       "      <td>other</td>\n",
       "    </tr>\n",
       "    <tr>\n",
       "      <th>85</th>\n",
       "      <td>4</td>\n",
       "      <td>Ich verlasse dieses Sportteam.</td>\n",
       "      <td>withdr</td>\n",
       "      <td>sitcon</td>\n",
       "      <td>withdr</td>\n",
       "    </tr>\n",
       "    <tr>\n",
       "      <th>92</th>\n",
       "      <td>4</td>\n",
       "      <td>Ich lasse sie bei wichtigen Spielen alleine, I...</td>\n",
       "      <td>other</td>\n",
       "      <td>sitcon</td>\n",
       "      <td>other</td>\n",
       "    </tr>\n",
       "    <tr>\n",
       "      <th>93</th>\n",
       "      <td>1</td>\n",
       "      <td>Ich sage ihm, dass sein Handeln mir Probleme v...</td>\n",
       "      <td>expr</td>\n",
       "      <td>sitcon</td>\n",
       "      <td>info</td>\n",
       "    </tr>\n",
       "    <tr>\n",
       "      <th>94</th>\n",
       "      <td>1</td>\n",
       "      <td>Mit ihm weiteres Vorgehen ausmachen, damit es ...</td>\n",
       "      <td>sitcon</td>\n",
       "      <td>reapp</td>\n",
       "      <td>sitcon</td>\n",
       "    </tr>\n",
       "    <tr>\n",
       "      <th>95</th>\n",
       "      <td>4</td>\n",
       "      <td>Ich achte nicht auf sie und versuche mein best...</td>\n",
       "      <td>suppress</td>\n",
       "      <td>sitcon</td>\n",
       "      <td>suppress</td>\n",
       "    </tr>\n",
       "    <tr>\n",
       "      <th>99</th>\n",
       "      <td>6</td>\n",
       "      <td>Auf mich achten</td>\n",
       "      <td>self-en</td>\n",
       "      <td>sitcon</td>\n",
       "      <td>reapp</td>\n",
       "    </tr>\n",
       "    <tr>\n",
       "      <th>104</th>\n",
       "      <td>6</td>\n",
       "      <td>Versuchen die eigenen „Fehler“ zu erkennen</td>\n",
       "      <td>other</td>\n",
       "      <td>sitcon</td>\n",
       "      <td>other</td>\n",
       "    </tr>\n",
       "    <tr>\n",
       "      <th>105</th>\n",
       "      <td>3</td>\n",
       "      <td>Allein zu Hause Musik hören, ggf. weinen</td>\n",
       "      <td>expr</td>\n",
       "      <td>dist</td>\n",
       "      <td>expr</td>\n",
       "    </tr>\n",
       "    <tr>\n",
       "      <th>109</th>\n",
       "      <td>9</td>\n",
       "      <td>Selbstgespräch führen</td>\n",
       "      <td>withdr</td>\n",
       "      <td>dist</td>\n",
       "      <td>other</td>\n",
       "    </tr>\n",
       "    <tr>\n",
       "      <th>110</th>\n",
       "      <td>6</td>\n",
       "      <td>Kurz an die frische Luft gehen</td>\n",
       "      <td>relax</td>\n",
       "      <td>dist</td>\n",
       "      <td>relax</td>\n",
       "    </tr>\n",
       "    <tr>\n",
       "      <th>112</th>\n",
       "      <td>1</td>\n",
       "      <td>Unter Stress kann ich besser arbeiten</td>\n",
       "      <td>reapp</td>\n",
       "      <td>self-en</td>\n",
       "      <td>reapp</td>\n",
       "    </tr>\n",
       "    <tr>\n",
       "      <th>118</th>\n",
       "      <td>7</td>\n",
       "      <td>Geh mich mal abreagieren indem ich Leute frage...</td>\n",
       "      <td>expr</td>\n",
       "      <td>dist</td>\n",
       "      <td>expr</td>\n",
       "    </tr>\n",
       "    <tr>\n",
       "      <th>120</th>\n",
       "      <td>9</td>\n",
       "      <td>Den Kollegen fragen woran es liegt</td>\n",
       "      <td>info</td>\n",
       "      <td>instr-supp</td>\n",
       "      <td>info</td>\n",
       "    </tr>\n",
       "    <tr>\n",
       "      <th>126</th>\n",
       "      <td>2</td>\n",
       "      <td>„Augen zu &amp; durch“</td>\n",
       "      <td>other</td>\n",
       "      <td>reapp</td>\n",
       "      <td>suppress</td>\n",
       "    </tr>\n",
       "    <tr>\n",
       "      <th>130</th>\n",
       "      <td>7</td>\n",
       "      <td>Auszeit nehmen (Urlaub, langes WE, …)</td>\n",
       "      <td>dist</td>\n",
       "      <td>sitcon</td>\n",
       "      <td>relax</td>\n",
       "    </tr>\n",
       "    <tr>\n",
       "      <th>133</th>\n",
       "      <td>4</td>\n",
       "      <td>Mit Spieler darauf ansprechen</td>\n",
       "      <td>info</td>\n",
       "      <td>sitcon</td>\n",
       "      <td>info</td>\n",
       "    </tr>\n",
       "    <tr>\n",
       "      <th>138</th>\n",
       "      <td>4</td>\n",
       "      <td>frage sie was ich verbessern soll</td>\n",
       "      <td>info</td>\n",
       "      <td>instr-supp</td>\n",
       "      <td>info</td>\n",
       "    </tr>\n",
       "    <tr>\n",
       "      <th>140</th>\n",
       "      <td>8</td>\n",
       "      <td>Ich gebe ihnen die falsche Adresse und welche ...</td>\n",
       "      <td>withdr</td>\n",
       "      <td>sitcon</td>\n",
       "      <td>withdr</td>\n",
       "    </tr>\n",
       "    <tr>\n",
       "      <th>143</th>\n",
       "      <td>5</td>\n",
       "      <td>Hinterfragen der eigenen Intention</td>\n",
       "      <td>other</td>\n",
       "      <td>reapp</td>\n",
       "      <td>other</td>\n",
       "    </tr>\n",
       "    <tr>\n",
       "      <th>153</th>\n",
       "      <td>8</td>\n",
       "      <td>Durch schöne Erinnerungen mit Fam. versuchen F...</td>\n",
       "      <td>reapp</td>\n",
       "      <td>sitcon</td>\n",
       "      <td>reapp</td>\n",
       "    </tr>\n",
       "    <tr>\n",
       "      <th>156</th>\n",
       "      <td>2</td>\n",
       "      <td>wenn nicht hilft, nochmals mit anderen reden</td>\n",
       "      <td>social-supp</td>\n",
       "      <td>instr-supp</td>\n",
       "      <td>social-supp</td>\n",
       "    </tr>\n",
       "    <tr>\n",
       "      <th>158</th>\n",
       "      <td>6</td>\n",
       "      <td>ich konfrontiere den Klienten und frage ihn na...</td>\n",
       "      <td>info</td>\n",
       "      <td>sitcon</td>\n",
       "      <td>info</td>\n",
       "    </tr>\n",
       "    <tr>\n",
       "      <th>160</th>\n",
       "      <td>1</td>\n",
       "      <td>Informationen selber suchen</td>\n",
       "      <td>sitcon</td>\n",
       "      <td>info</td>\n",
       "      <td>sitcon</td>\n",
       "    </tr>\n",
       "    <tr>\n",
       "      <th>162</th>\n",
       "      <td>1</td>\n",
       "      <td>Ich sag was ich denke und bitte ihn darum früh...</td>\n",
       "      <td>sitcon</td>\n",
       "      <td>instr-supp</td>\n",
       "      <td>info</td>\n",
       "    </tr>\n",
       "    <tr>\n",
       "      <th>163</th>\n",
       "      <td>9</td>\n",
       "      <td>Ich frage ihn warum er sich nicht mehr meldet,...</td>\n",
       "      <td>info</td>\n",
       "      <td>sitcon</td>\n",
       "      <td>other</td>\n",
       "    </tr>\n",
       "    <tr>\n",
       "      <th>166</th>\n",
       "      <td>5</td>\n",
       "      <td>Ich freunde mich mit Ich lerne meine Mitstuden...</td>\n",
       "      <td>info</td>\n",
       "      <td>sitcon</td>\n",
       "      <td>instr-supp</td>\n",
       "    </tr>\n",
       "    <tr>\n",
       "      <th>169</th>\n",
       "      <td>4</td>\n",
       "      <td>Ich konzentriere mich mehr auf andere Dinge, i...</td>\n",
       "      <td>dist</td>\n",
       "      <td>reapp</td>\n",
       "      <td>self-en</td>\n",
       "    </tr>\n",
       "    <tr>\n",
       "      <th>172</th>\n",
       "      <td>9</td>\n",
       "      <td>Akzeptanz der Situation</td>\n",
       "      <td>other</td>\n",
       "      <td>reapp</td>\n",
       "      <td>other</td>\n",
       "    </tr>\n",
       "    <tr>\n",
       "      <th>174</th>\n",
       "      <td>9</td>\n",
       "      <td>Ich versuche zu verstehen, dass er vielleicht ...</td>\n",
       "      <td>other</td>\n",
       "      <td>info</td>\n",
       "      <td>reapp</td>\n",
       "    </tr>\n",
       "    <tr>\n",
       "      <th>175</th>\n",
       "      <td>8</td>\n",
       "      <td>Gute Musik hoeren</td>\n",
       "      <td>dist</td>\n",
       "      <td>relax</td>\n",
       "      <td>dist</td>\n",
       "    </tr>\n",
       "    <tr>\n",
       "      <th>178</th>\n",
       "      <td>8</td>\n",
       "      <td>Darüber Nachdenken</td>\n",
       "      <td>other</td>\n",
       "      <td>reapp</td>\n",
       "      <td>other</td>\n",
       "    </tr>\n",
       "    <tr>\n",
       "      <th>179</th>\n",
       "      <td>7</td>\n",
       "      <td>schiebe die Schuld auf andere</td>\n",
       "      <td>reapp</td>\n",
       "      <td>sitcon</td>\n",
       "      <td>other</td>\n",
       "    </tr>\n",
       "    <tr>\n",
       "      <th>184</th>\n",
       "      <td>6</td>\n",
       "      <td>Ich rufe mir andere Klienten in Erinnerung zu ...</td>\n",
       "      <td>self-en</td>\n",
       "      <td>instr-supp</td>\n",
       "      <td>self-en</td>\n",
       "    </tr>\n",
       "    <tr>\n",
       "      <th>186</th>\n",
       "      <td>9</td>\n",
       "      <td>Seine Trauer analysieren, nach Alternativen fü...</td>\n",
       "      <td>other</td>\n",
       "      <td>sitcon</td>\n",
       "      <td>other</td>\n",
       "    </tr>\n",
       "    <tr>\n",
       "      <th>187</th>\n",
       "      <td>7</td>\n",
       "      <td>Ich analysiere, ob ich früher handeln hätte kö...</td>\n",
       "      <td>other</td>\n",
       "      <td>reapp</td>\n",
       "      <td>other</td>\n",
       "    </tr>\n",
       "    <tr>\n",
       "      <th>189</th>\n",
       "      <td>4</td>\n",
       "      <td>ich konfrontiere den Freund</td>\n",
       "      <td>info</td>\n",
       "      <td>sitcon</td>\n",
       "      <td>expr</td>\n",
       "    </tr>\n",
       "    <tr>\n",
       "      <th>191</th>\n",
       "      <td>7</td>\n",
       "      <td>Mit Kollegen darüber sprechen</td>\n",
       "      <td>social-supp</td>\n",
       "      <td>instr-supp</td>\n",
       "      <td>info</td>\n",
       "    </tr>\n",
       "    <tr>\n",
       "      <th>192</th>\n",
       "      <td>5</td>\n",
       "      <td>Ich spreche mit den jüngeren Student/innen, da...</td>\n",
       "      <td>info</td>\n",
       "      <td>instr-supp</td>\n",
       "      <td>info</td>\n",
       "    </tr>\n",
       "    <tr>\n",
       "      <th>196</th>\n",
       "      <td>6</td>\n",
       "      <td>kontaktiere den Klienten</td>\n",
       "      <td>info</td>\n",
       "      <td>sitcon</td>\n",
       "      <td>info</td>\n",
       "    </tr>\n",
       "    <tr>\n",
       "      <th>200</th>\n",
       "      <td>3</td>\n",
       "      <td>in die Heimat fahren/Zug-/Flugticket buchen &gt; ...</td>\n",
       "      <td>sitcon</td>\n",
       "      <td>social-supp</td>\n",
       "      <td>sitcon</td>\n",
       "    </tr>\n",
       "    <tr>\n",
       "      <th>203</th>\n",
       "      <td>4</td>\n",
       "      <td>Ich frage nach den Gründen der Mitspieler/inne...</td>\n",
       "      <td>info</td>\n",
       "      <td>instr-supp</td>\n",
       "      <td>info</td>\n",
       "    </tr>\n",
       "    <tr>\n",
       "      <th>204</th>\n",
       "      <td>4</td>\n",
       "      <td>Freunden Ärger mitteilen</td>\n",
       "      <td>expr</td>\n",
       "      <td>social-supp</td>\n",
       "      <td>expr</td>\n",
       "    </tr>\n",
       "  </tbody>\n",
       "</table>\n",
       "</div>"
      ],
      "text/plain": [
       "     Item                                      ER Suggestion           AB  \\\n",
       "4       6  Ich distanziere mich von der Bewertung des Kli...     suppress   \n",
       "5       2  Ich suche jemanden auf der mir bei meiner Angs...      therapy   \n",
       "6       5      ich werte die jüngeren Studenten innerlich ab      self-en   \n",
       "14      3                            Den Verwandten anrufen.         info   \n",
       "22      4           Reflektieren was der Wahrheit entspricht        other   \n",
       "25      1  Ich bereite mich darauf vor, ein höheres Arbei...        other   \n",
       "28      1  Früher Feierabend machen und sich einen gemütl...        relax   \n",
       "37      7  Ich schaue nach vorne, kümmere mich erneut um ...       sitcon   \n",
       "41      3              Arzt fragen wie es steht um sie steht         info   \n",
       "43      6                         Gespräch mit Klient suchen         info   \n",
       "54      1                       versuchen, mich zu beruhigen        relax   \n",
       "58      5  Positiv denken: Man kann alles lernen, du scha...        reapp   \n",
       "60      4  Frage mal nach warum, wenn Gründe schlüssig si...        other   \n",
       "63      3  Ich erkundige mich bei meinen Verwandten was p...         info   \n",
       "71      2  Körpergestik einnehmen die nicht Angst wieders...      self-en   \n",
       "74      6                     Kritik des Klienten verdrängen     suppress   \n",
       "77      2  sich fragen ob man bereit ist private Freundsc...        other   \n",
       "81      4             Gedanken machen ob das wirklich so ist        other   \n",
       "85      4                     Ich verlasse dieses Sportteam.       withdr   \n",
       "92      4  Ich lasse sie bei wichtigen Spielen alleine, I...        other   \n",
       "93      1  Ich sage ihm, dass sein Handeln mir Probleme v...         expr   \n",
       "94      1  Mit ihm weiteres Vorgehen ausmachen, damit es ...       sitcon   \n",
       "95      4  Ich achte nicht auf sie und versuche mein best...     suppress   \n",
       "99      6                                    Auf mich achten      self-en   \n",
       "104     6         Versuchen die eigenen „Fehler“ zu erkennen        other   \n",
       "105     3           Allein zu Hause Musik hören, ggf. weinen         expr   \n",
       "109     9                              Selbstgespräch führen       withdr   \n",
       "110     6                     Kurz an die frische Luft gehen        relax   \n",
       "112     1              Unter Stress kann ich besser arbeiten        reapp   \n",
       "118     7  Geh mich mal abreagieren indem ich Leute frage...         expr   \n",
       "120     9                 Den Kollegen fragen woran es liegt         info   \n",
       "126     2                                 „Augen zu & durch“        other   \n",
       "130     7              Auszeit nehmen (Urlaub, langes WE, …)         dist   \n",
       "133     4                      Mit Spieler darauf ansprechen         info   \n",
       "138     4                  frage sie was ich verbessern soll         info   \n",
       "140     8  Ich gebe ihnen die falsche Adresse und welche ...       withdr   \n",
       "143     5                 Hinterfragen der eigenen Intention        other   \n",
       "153     8  Durch schöne Erinnerungen mit Fam. versuchen F...        reapp   \n",
       "156     2       wenn nicht hilft, nochmals mit anderen reden  social-supp   \n",
       "158     6  ich konfrontiere den Klienten und frage ihn na...         info   \n",
       "160     1                        Informationen selber suchen       sitcon   \n",
       "162     1  Ich sag was ich denke und bitte ihn darum früh...       sitcon   \n",
       "163     9  Ich frage ihn warum er sich nicht mehr meldet,...         info   \n",
       "166     5  Ich freunde mich mit Ich lerne meine Mitstuden...         info   \n",
       "169     4  Ich konzentriere mich mehr auf andere Dinge, i...         dist   \n",
       "172     9                            Akzeptanz der Situation        other   \n",
       "174     9  Ich versuche zu verstehen, dass er vielleicht ...        other   \n",
       "175     8                                  Gute Musik hoeren         dist   \n",
       "178     8                                 Darüber Nachdenken        other   \n",
       "179     7                      schiebe die Schuld auf andere        reapp   \n",
       "184     6  Ich rufe mir andere Klienten in Erinnerung zu ...      self-en   \n",
       "186     9  Seine Trauer analysieren, nach Alternativen fü...        other   \n",
       "187     7  Ich analysiere, ob ich früher handeln hätte kö...        other   \n",
       "189     4                        ich konfrontiere den Freund         info   \n",
       "191     7                      Mit Kollegen darüber sprechen  social-supp   \n",
       "192     5  Ich spreche mit den jüngeren Student/innen, da...         info   \n",
       "196     6                           kontaktiere den Klienten         info   \n",
       "200     3  in die Heimat fahren/Zug-/Flugticket buchen > ...       sitcon   \n",
       "203     4  Ich frage nach den Gründen der Mitspieler/inne...         info   \n",
       "204     4                           Freunden Ärger mitteilen         expr   \n",
       "\n",
       "              EM           VP  \n",
       "4         withdr        reapp  \n",
       "5     instr-supp      therapy  \n",
       "6          reapp      self-en  \n",
       "14   social-supp       sitcon  \n",
       "22         reapp        other  \n",
       "25         reapp       sitcon  \n",
       "28        sitcon        relax  \n",
       "37         reapp       sitcon  \n",
       "41    instr-supp         info  \n",
       "43        sitcon         info  \n",
       "54         reapp        relax  \n",
       "58       self-en        reapp  \n",
       "60        sitcon         info  \n",
       "63   social-supp         info  \n",
       "71        sitcon      therapy  \n",
       "74        withdr     suppress  \n",
       "77        sitcon       withdr  \n",
       "81         reapp        other  \n",
       "85        sitcon       withdr  \n",
       "92        sitcon        other  \n",
       "93        sitcon         info  \n",
       "94         reapp       sitcon  \n",
       "95        sitcon     suppress  \n",
       "99        sitcon        reapp  \n",
       "104       sitcon        other  \n",
       "105         dist         expr  \n",
       "109         dist        other  \n",
       "110         dist        relax  \n",
       "112      self-en        reapp  \n",
       "118         dist         expr  \n",
       "120   instr-supp         info  \n",
       "126        reapp     suppress  \n",
       "130       sitcon        relax  \n",
       "133       sitcon         info  \n",
       "138   instr-supp         info  \n",
       "140       sitcon       withdr  \n",
       "143        reapp        other  \n",
       "153       sitcon        reapp  \n",
       "156   instr-supp  social-supp  \n",
       "158       sitcon         info  \n",
       "160         info       sitcon  \n",
       "162   instr-supp         info  \n",
       "163       sitcon        other  \n",
       "166       sitcon   instr-supp  \n",
       "169        reapp      self-en  \n",
       "172        reapp        other  \n",
       "174         info        reapp  \n",
       "175        relax         dist  \n",
       "178        reapp        other  \n",
       "179       sitcon        other  \n",
       "184   instr-supp      self-en  \n",
       "186       sitcon        other  \n",
       "187        reapp        other  \n",
       "189       sitcon         expr  \n",
       "191   instr-supp         info  \n",
       "192   instr-supp         info  \n",
       "196       sitcon         info  \n",
       "200  social-supp       sitcon  \n",
       "203   instr-supp         info  \n",
       "204  social-supp         expr  "
      ]
     },
     "execution_count": 30,
     "metadata": {},
     "output_type": "execute_result"
    }
   ],
   "source": [
    "AB_drop = AB.drop_duplicates()\n",
    "df_concat = AB_drop[['Item', 'ER Suggestion', 'Label']].merge(AB_EM[['Item', 'ER Suggestion', 'Label']],\n",
    "                                                              on=['Item', 'ER Suggestion'], how='inner')\n",
    "df_concat = df_concat.merge(AB_VP[['Item', 'ER Suggestion', 'Label']],\n",
    "                            on=['Item', 'ER Suggestion'], how='inner')\n",
    "df_concat.columns = ['Item', 'ER Suggestion', 'AB', 'EM', 'VP']\n",
    "df_concat.query('AB != EM != VP')"
   ]
  },
  {
   "cell_type": "code",
   "execution_count": null,
   "metadata": {},
   "outputs": [],
   "source": []
  }
 ],
 "metadata": {
  "colab": {
   "collapsed_sections": [],
   "name": "ClustER_UMAP_feat_HDBSCAN.ipynb",
   "provenance": []
  },
  "kernelspec": {
   "display_name": "Python 3 (ipykernel)",
   "language": "python",
   "name": "python3"
  },
  "language_info": {
   "codemirror_mode": {
    "name": "ipython",
    "version": 3
   },
   "file_extension": ".py",
   "mimetype": "text/x-python",
   "name": "python",
   "nbconvert_exporter": "python",
   "pygments_lexer": "ipython3",
   "version": "3.9.12"
  },
  "widgets": {
   "application/vnd.jupyter.widget-state+json": {
    "13ad6129c3af454bb1db2dcdb19e3c3f": {
     "model_module": "@jupyter-widgets/controls",
     "model_module_version": "1.5.0",
     "model_name": "FloatProgressModel",
     "state": {
      "_dom_classes": [],
      "_model_module": "@jupyter-widgets/controls",
      "_model_module_version": "1.5.0",
      "_model_name": "FloatProgressModel",
      "_view_count": null,
      "_view_module": "@jupyter-widgets/controls",
      "_view_module_version": "1.5.0",
      "_view_name": "ProgressView",
      "bar_style": "success",
      "description": "",
      "description_tooltip": null,
      "layout": "IPY_MODEL_df294223fb1e4e1f9c96ac1ba449076a",
      "max": 189,
      "min": 0,
      "orientation": "horizontal",
      "style": "IPY_MODEL_f2dc7f8f230f4e64b076716e5f327a4d",
      "value": 189
     }
    },
    "4940febc96024fe1a7b9bcc438982bb0": {
     "model_module": "@jupyter-widgets/controls",
     "model_module_version": "1.5.0",
     "model_name": "HTMLModel",
     "state": {
      "_dom_classes": [],
      "_model_module": "@jupyter-widgets/controls",
      "_model_module_version": "1.5.0",
      "_model_name": "HTMLModel",
      "_view_count": null,
      "_view_module": "@jupyter-widgets/controls",
      "_view_module_version": "1.5.0",
      "_view_name": "HTMLView",
      "description": "",
      "description_tooltip": null,
      "layout": "IPY_MODEL_8111d9cbe45e457dbbb0a1885b8d618c",
      "placeholder": "​",
      "style": "IPY_MODEL_806110fc66e242e3b8017a23df718843",
      "value": " 189/189 [00:16&lt;00:00, 22.90it/s]"
     }
    },
    "715335c00ad9443bbd97920f231d85d6": {
     "model_module": "@jupyter-widgets/controls",
     "model_module_version": "1.5.0",
     "model_name": "HTMLModel",
     "state": {
      "_dom_classes": [],
      "_model_module": "@jupyter-widgets/controls",
      "_model_module_version": "1.5.0",
      "_model_name": "HTMLModel",
      "_view_count": null,
      "_view_module": "@jupyter-widgets/controls",
      "_view_module_version": "1.5.0",
      "_view_name": "HTMLView",
      "description": "",
      "description_tooltip": null,
      "layout": "IPY_MODEL_d1b31f700fda47c790ec4d8b076669b0",
      "placeholder": "​",
      "style": "IPY_MODEL_7ca460c08d8c4ffe906d84bafe7530bd",
      "value": "Batches: 100%"
     }
    },
    "7ca460c08d8c4ffe906d84bafe7530bd": {
     "model_module": "@jupyter-widgets/controls",
     "model_module_version": "1.5.0",
     "model_name": "DescriptionStyleModel",
     "state": {
      "_model_module": "@jupyter-widgets/controls",
      "_model_module_version": "1.5.0",
      "_model_name": "DescriptionStyleModel",
      "_view_count": null,
      "_view_module": "@jupyter-widgets/base",
      "_view_module_version": "1.2.0",
      "_view_name": "StyleView",
      "description_width": ""
     }
    },
    "806110fc66e242e3b8017a23df718843": {
     "model_module": "@jupyter-widgets/controls",
     "model_module_version": "1.5.0",
     "model_name": "DescriptionStyleModel",
     "state": {
      "_model_module": "@jupyter-widgets/controls",
      "_model_module_version": "1.5.0",
      "_model_name": "DescriptionStyleModel",
      "_view_count": null,
      "_view_module": "@jupyter-widgets/base",
      "_view_module_version": "1.2.0",
      "_view_name": "StyleView",
      "description_width": ""
     }
    },
    "8111d9cbe45e457dbbb0a1885b8d618c": {
     "model_module": "@jupyter-widgets/base",
     "model_module_version": "1.2.0",
     "model_name": "LayoutModel",
     "state": {
      "_model_module": "@jupyter-widgets/base",
      "_model_module_version": "1.2.0",
      "_model_name": "LayoutModel",
      "_view_count": null,
      "_view_module": "@jupyter-widgets/base",
      "_view_module_version": "1.2.0",
      "_view_name": "LayoutView",
      "align_content": null,
      "align_items": null,
      "align_self": null,
      "border": null,
      "bottom": null,
      "display": null,
      "flex": null,
      "flex_flow": null,
      "grid_area": null,
      "grid_auto_columns": null,
      "grid_auto_flow": null,
      "grid_auto_rows": null,
      "grid_column": null,
      "grid_gap": null,
      "grid_row": null,
      "grid_template_areas": null,
      "grid_template_columns": null,
      "grid_template_rows": null,
      "height": null,
      "justify_content": null,
      "justify_items": null,
      "left": null,
      "margin": null,
      "max_height": null,
      "max_width": null,
      "min_height": null,
      "min_width": null,
      "object_fit": null,
      "object_position": null,
      "order": null,
      "overflow": null,
      "overflow_x": null,
      "overflow_y": null,
      "padding": null,
      "right": null,
      "top": null,
      "visibility": null,
      "width": null
     }
    },
    "d1b31f700fda47c790ec4d8b076669b0": {
     "model_module": "@jupyter-widgets/base",
     "model_module_version": "1.2.0",
     "model_name": "LayoutModel",
     "state": {
      "_model_module": "@jupyter-widgets/base",
      "_model_module_version": "1.2.0",
      "_model_name": "LayoutModel",
      "_view_count": null,
      "_view_module": "@jupyter-widgets/base",
      "_view_module_version": "1.2.0",
      "_view_name": "LayoutView",
      "align_content": null,
      "align_items": null,
      "align_self": null,
      "border": null,
      "bottom": null,
      "display": null,
      "flex": null,
      "flex_flow": null,
      "grid_area": null,
      "grid_auto_columns": null,
      "grid_auto_flow": null,
      "grid_auto_rows": null,
      "grid_column": null,
      "grid_gap": null,
      "grid_row": null,
      "grid_template_areas": null,
      "grid_template_columns": null,
      "grid_template_rows": null,
      "height": null,
      "justify_content": null,
      "justify_items": null,
      "left": null,
      "margin": null,
      "max_height": null,
      "max_width": null,
      "min_height": null,
      "min_width": null,
      "object_fit": null,
      "object_position": null,
      "order": null,
      "overflow": null,
      "overflow_x": null,
      "overflow_y": null,
      "padding": null,
      "right": null,
      "top": null,
      "visibility": null,
      "width": null
     }
    },
    "df294223fb1e4e1f9c96ac1ba449076a": {
     "model_module": "@jupyter-widgets/base",
     "model_module_version": "1.2.0",
     "model_name": "LayoutModel",
     "state": {
      "_model_module": "@jupyter-widgets/base",
      "_model_module_version": "1.2.0",
      "_model_name": "LayoutModel",
      "_view_count": null,
      "_view_module": "@jupyter-widgets/base",
      "_view_module_version": "1.2.0",
      "_view_name": "LayoutView",
      "align_content": null,
      "align_items": null,
      "align_self": null,
      "border": null,
      "bottom": null,
      "display": null,
      "flex": null,
      "flex_flow": null,
      "grid_area": null,
      "grid_auto_columns": null,
      "grid_auto_flow": null,
      "grid_auto_rows": null,
      "grid_column": null,
      "grid_gap": null,
      "grid_row": null,
      "grid_template_areas": null,
      "grid_template_columns": null,
      "grid_template_rows": null,
      "height": null,
      "justify_content": null,
      "justify_items": null,
      "left": null,
      "margin": null,
      "max_height": null,
      "max_width": null,
      "min_height": null,
      "min_width": null,
      "object_fit": null,
      "object_position": null,
      "order": null,
      "overflow": null,
      "overflow_x": null,
      "overflow_y": null,
      "padding": null,
      "right": null,
      "top": null,
      "visibility": null,
      "width": null
     }
    },
    "f2dc7f8f230f4e64b076716e5f327a4d": {
     "model_module": "@jupyter-widgets/controls",
     "model_module_version": "1.5.0",
     "model_name": "ProgressStyleModel",
     "state": {
      "_model_module": "@jupyter-widgets/controls",
      "_model_module_version": "1.5.0",
      "_model_name": "ProgressStyleModel",
      "_view_count": null,
      "_view_module": "@jupyter-widgets/base",
      "_view_module_version": "1.2.0",
      "_view_name": "StyleView",
      "bar_color": null,
      "description_width": ""
     }
    },
    "f4c1af507a3e4879a7503b9c5fb97abf": {
     "model_module": "@jupyter-widgets/base",
     "model_module_version": "1.2.0",
     "model_name": "LayoutModel",
     "state": {
      "_model_module": "@jupyter-widgets/base",
      "_model_module_version": "1.2.0",
      "_model_name": "LayoutModel",
      "_view_count": null,
      "_view_module": "@jupyter-widgets/base",
      "_view_module_version": "1.2.0",
      "_view_name": "LayoutView",
      "align_content": null,
      "align_items": null,
      "align_self": null,
      "border": null,
      "bottom": null,
      "display": null,
      "flex": null,
      "flex_flow": null,
      "grid_area": null,
      "grid_auto_columns": null,
      "grid_auto_flow": null,
      "grid_auto_rows": null,
      "grid_column": null,
      "grid_gap": null,
      "grid_row": null,
      "grid_template_areas": null,
      "grid_template_columns": null,
      "grid_template_rows": null,
      "height": null,
      "justify_content": null,
      "justify_items": null,
      "left": null,
      "margin": null,
      "max_height": null,
      "max_width": null,
      "min_height": null,
      "min_width": null,
      "object_fit": null,
      "object_position": null,
      "order": null,
      "overflow": null,
      "overflow_x": null,
      "overflow_y": null,
      "padding": null,
      "right": null,
      "top": null,
      "visibility": null,
      "width": null
     }
    },
    "f4e8f4ac221a477caece692e3bba87d4": {
     "model_module": "@jupyter-widgets/controls",
     "model_module_version": "1.5.0",
     "model_name": "HBoxModel",
     "state": {
      "_dom_classes": [],
      "_model_module": "@jupyter-widgets/controls",
      "_model_module_version": "1.5.0",
      "_model_name": "HBoxModel",
      "_view_count": null,
      "_view_module": "@jupyter-widgets/controls",
      "_view_module_version": "1.5.0",
      "_view_name": "HBoxView",
      "box_style": "",
      "children": [
       "IPY_MODEL_715335c00ad9443bbd97920f231d85d6",
       "IPY_MODEL_13ad6129c3af454bb1db2dcdb19e3c3f",
       "IPY_MODEL_4940febc96024fe1a7b9bcc438982bb0"
      ],
      "layout": "IPY_MODEL_f4c1af507a3e4879a7503b9c5fb97abf"
     }
    }
   }
  }
 },
 "nbformat": 4,
 "nbformat_minor": 1
}
