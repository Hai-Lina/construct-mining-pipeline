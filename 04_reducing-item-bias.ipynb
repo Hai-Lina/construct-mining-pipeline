{
 "cells": [
  {
   "cell_type": "markdown",
   "id": "76c48cbc",
   "metadata": {},
   "source": [
    "# CMP STEP 4: Reducing Item Bias"
   ]
  },
  {
   "cell_type": "code",
   "execution_count": null,
   "id": "c2ca10fe",
   "metadata": {},
   "outputs": [],
   "source": [
    "from sentence_transformers import SentenceTransformer\n",
    "\n",
    "import numpy as np\n",
    "import pandas as pd\n",
    "import re"
   ]
  },
  {
   "cell_type": "code",
   "execution_count": null,
   "id": "c21186e8",
   "metadata": {},
   "outputs": [],
   "source": [
    "DATA = 'data/'"
   ]
  },
  {
   "cell_type": "markdown",
   "id": "368cf241",
   "metadata": {},
   "source": [
    "### Load original strategy texts"
   ]
  },
  {
   "cell_type": "code",
   "execution_count": null,
   "id": "6e12ded0",
   "metadata": {},
   "outputs": [],
   "source": [
    "data = pd.read_csv(DATA + 'strategies_raw.csv', sep=';')"
   ]
  },
  {
   "cell_type": "markdown",
   "id": "cac74009",
   "metadata": {},
   "source": [
    "### Load transformer model"
   ]
  },
  {
   "cell_type": "code",
   "execution_count": null,
   "id": "f2da41f9",
   "metadata": {},
   "outputs": [],
   "source": [
    "# load sentence transformer model\n",
    "# https://huggingface.co/deepset/gbert-large-sts\n",
    "model = SentenceTransformer('deepset/gbert-large-sts')"
   ]
  },
  {
   "cell_type": "markdown",
   "id": "a4e041f2",
   "metadata": {},
   "source": [
    "### Mask sentences, embed & save to file"
   ]
  },
  {
   "cell_type": "code",
   "execution_count": null,
   "id": "6ca79cbf",
   "metadata": {},
   "outputs": [],
   "source": [
    "# create dictionary of topic words per item\n",
    "masks = {1: ['Information', 'Zeitplan'], 2: ['Vertrag', 'Unternehmen', 'Flugangst'],\n",
    "         3: ['Krankenhaus'], 4: ['Sportteam', 'Team', 'Mitspieler.*'], 5: ['Auszeit', 'Universität', 'Student.*'],\n",
    "         6: ['Klient'], 7: ['Betriebsmittel.*', 'Zeitplan', 'Zwischenbericht', 'Arbeitsfortschritt'],\n",
    "         8: ['Großfamilie', 'Feier', 'feiern'], 9: ['Café', 'Cafe', 'Abteilung']}"
   ]
  },
  {
   "cell_type": "code",
   "execution_count": null,
   "id": "453d8fa9",
   "metadata": {},
   "outputs": [],
   "source": [
    "# initialize empty dataframe\n",
    "data_masked = pd.DataFrame(columns=['strategy text', 'item'])"
   ]
  },
  {
   "cell_type": "code",
   "execution_count": null,
   "id": "2d378b91",
   "metadata": {},
   "outputs": [],
   "source": [
    "# populate dataframe with masked strategy texts & item numbers\n",
    "for i in range(len(data)):\n",
    "    strategy_new = data.iloc[i]['strategy text']\n",
    "    for mask in masks[data.iloc[i]['item']]:\n",
    "        strategy_new = re.sub(mask, '[MASK]', strategy_new)\n",
    "    data_masked.loc[i] = [strategy_new, data.iloc[i]['item']]"
   ]
  },
  {
   "cell_type": "code",
   "execution_count": null,
   "id": "a4daf487",
   "metadata": {},
   "outputs": [],
   "source": [
    "# embed masked strategy sentences\n",
    "strategy_embeddings_masked = model.encode(data_masked['strategy text'].tolist(), show_progress_bar=True)"
   ]
  },
  {
   "cell_type": "code",
   "execution_count": null,
   "id": "efb7c096",
   "metadata": {},
   "outputs": [],
   "source": [
    "# save masked strategy embeddings to file\n",
    "# np.save(DATA + 'strategy_embeddings_masked', strategy_embeddings_masked)  # use previous embeddings for full replicability"
   ]
  },
  {
   "cell_type": "code",
   "execution_count": null,
   "id": "42a86ece",
   "metadata": {},
   "outputs": [],
   "source": []
  }
 ],
 "metadata": {
  "kernelspec": {
   "display_name": "Python 3 (ipykernel)",
   "language": "python",
   "name": "python3"
  },
  "language_info": {
   "codemirror_mode": {
    "name": "ipython",
    "version": 3
   },
   "file_extension": ".py",
   "mimetype": "text/x-python",
   "name": "python",
   "nbconvert_exporter": "python",
   "pygments_lexer": "ipython3",
   "version": "3.9.12"
  }
 },
 "nbformat": 4,
 "nbformat_minor": 5
}
